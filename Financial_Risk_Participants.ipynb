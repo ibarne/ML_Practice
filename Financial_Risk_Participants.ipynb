{
  "nbformat": 4,
  "nbformat_minor": 0,
  "metadata": {
    "colab": {
      "name": "Financial_Risk_Participants.ipynb",
      "provenance": [],
      "authorship_tag": "ABX9TyMCID8bgyBQy2tsNhO2sibf",
      "include_colab_link": true
    },
    "kernelspec": {
      "name": "python3",
      "display_name": "Python 3"
    }
  },
  "cells": [
    {
      "cell_type": "markdown",
      "metadata": {
        "id": "view-in-github",
        "colab_type": "text"
      },
      "source": [
        "<a href=\"https://colab.research.google.com/github/ibarne/ML_Practice/blob/master/Financial_Risk_Participants.ipynb\" target=\"_parent\"><img src=\"https://colab.research.google.com/assets/colab-badge.svg\" alt=\"Open In Colab\"/></a>"
      ]
    },
    {
      "cell_type": "code",
      "metadata": {
        "id": "E4bc0HxrUQTO",
        "colab_type": "code",
        "colab": {
          "base_uri": "https://localhost:8080/",
          "height": 73
        },
        "outputId": "b0dbf24d-a387-41cc-e2b5-1460ec2fe9c9"
      },
      "source": [
        "import pandas as pd\n",
        "import numpy as np\n",
        "import matplotlib.pyplot as plt\n",
        "import seaborn as sns\n",
        "from sklearn.model_selection import train_test_split\n",
        "from sklearn.metrics import confusion_matrix,accuracy_score\n",
        "from sklearn.tree import DecisionTreeClassifier\n",
        "from sklearn.ensemble import BaggingClassifier, AdaBoostClassifier\n",
        "from sklearn.model_selection import GridSearchCV, cross_val_score"
      ],
      "execution_count": null,
      "outputs": [
        {
          "output_type": "stream",
          "text": [
            "/usr/local/lib/python3.6/dist-packages/statsmodels/tools/_testing.py:19: FutureWarning: pandas.util.testing is deprecated. Use the functions in the public API at pandas.testing instead.\n",
            "  import pandas.util.testing as tm\n"
          ],
          "name": "stderr"
        }
      ]
    },
    {
      "cell_type": "code",
      "metadata": {
        "id": "NqPlbRZ7UYyz",
        "colab_type": "code",
        "colab": {
          "resources": {
            "http://localhost:8080/nbextensions/google.colab/files.js": {
              "data": "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",
              "ok": true,
              "headers": [
                [
                  "content-type",
                  "application/javascript"
                ]
              ],
              "status": 200,
              "status_text": "OK"
            }
          },
          "base_uri": "https://localhost:8080/",
          "height": 112
        },
        "outputId": "e3d4fd57-ec0d-42a4-8d61-effb71a35c3b"
      },
      "source": [
        "from google.colab import files\n",
        "files.upload()"
      ],
      "execution_count": null,
      "outputs": [
        {
          "output_type": "display_data",
          "data": {
            "text/html": [
              "\n",
              "     <input type=\"file\" id=\"files-837a53f8-2e56-47dc-b1f3-1643f517f259\" name=\"files[]\" multiple disabled\n",
              "        style=\"border:none\" />\n",
              "     <output id=\"result-837a53f8-2e56-47dc-b1f3-1643f517f259\">\n",
              "      Upload widget is only available when the cell has been executed in the\n",
              "      current browser session. Please rerun this cell to enable.\n",
              "      </output>\n",
              "      <script src=\"/nbextensions/google.colab/files.js\"></script> "
            ],
            "text/plain": [
              "<IPython.core.display.HTML object>"
            ]
          },
          "metadata": {
            "tags": []
          }
        },
        {
          "output_type": "stream",
          "text": [
            "Saving Train.csv to Train.csv\n"
          ],
          "name": "stdout"
        },
        {
          "output_type": "execute_result",
          "data": {
            "text/plain": [
              "{'Train.csv': b'City,Location_Score,Internal_Audit_Score,External_Audit_Score,Fin_Score,Loss_score,Past_Results,IsUnderRisk\\n2,8.032,14,8,3,6,0,1\\n31,77.73,8,3,3,8,1,0\\n40,59.203,3,12,11,3,0,1\\n12,73.08,4,5,7,6,0,0\\n4,15.666,13,15,6,7,2,1\\n1,6.237,10,10,12,3,1,1\\n9,13.795,8,3,5,3,0,0\\n23,74.132,11,15,5,8,0,1\\n40,69.522,8,4,7,6,0,0\\n38,6.577,8,5,7,3,1,0\\n4,75.514,8,12,4,4,0,1\\n0,34.522,11,10,14,3,1,1\\n10,34.374,4,8,7,3,1,0\\n8,22.872,8,8,7,7,0,1\\n9,16.313,14,10,3,4,1,1\\n11,16.396,13,15,8,6,0,1\\n19,9.537,3,7,5,7,0,0\\n9,16.433,12,11,15,3,1,1\\n6,41.253,3,6,4,5,0,0\\n2,22.067,7,3,8,5,1,1\\n8,7.061,3,5,6,8,1,0\\n23,38.318,7,7,6,3,1,0\\n1,15.931,10,7,7,6,0,1\\n6,8.875,7,7,7,4,1,1\\n10,17.463,13,15,12,3,1,1\\n37,7.087,11,3,4,5,1,1\\n6,23.298,7,8,4,4,1,1\\n2,70.261,3,6,5,3,0,0\\n3,11.092,8,5,4,6,0,0\\n40,14.226,8,5,6,4,1,1\\n40,21.448,5,7,7,3,1,0\\n5,73.111,10,8,4,8,0,1\\n2,73.793,7,7,5,4,0,1\\n31,9.606,11,4,4,4,1,1\\n6,12.058,6,7,3,7,1,1\\n41,17.908,6,3,7,6,1,0\\n10,7.11,7,5,7,6,1,0\\n40,73.507,8,5,5,7,1,1\\n16,68.547,6,3,3,7,1,0\\n9,5.518,12,4,7,6,0,1\\n22,15.105,5,8,5,8,0,0\\n6,18.332,12,14,12,8,1,1\\n40,33.219,6,7,7,5,1,0\\n10,14.211,11,3,13,6,1,1\\n40,61.459,10,8,5,8,1,1\\n6,75.615,8,5,4,8,1,0\\n23,67.797,3,4,8,3,0,0\\n2,10.968,15,13,15,6,2,1\\n40,9.348,15,10,6,5,0,1\\n37,22.864,12,14,13,3,2,1\\n2,73.972,10,3,3,3,1,1\\n37,9.138,6,3,7,8,1,0\\n41,16.482,4,3,6,4,1,0\\n40,17.024,12,13,7,5,1,1\\n31,64.502,5,8,8,5,1,0\\n38,16.893,11,3,7,6,0,1\\n41,63.372,10,15,4,5,0,1\\n29,12.337,12,10,11,5,1,1\\n9,61.625,3,3,5,4,0,0\\n41,62.94,7,8,8,6,0,0\\n4,18.072,10,3,4,3,1,1\\n19,64.93,6,6,5,6,1,0\\n0,24.597,11,12,14,3,1,1\\n38,66.043,6,6,5,5,1,0\\n37,15.586,7,3,14,3,1,1\\n2,9.83,3,7,6,6,0,0\\n6,17.653,10,10,12,6,0,1\\n8,6.141,8,3,5,4,1,0\\n5,70.881,9,13,4,3,0,1\\n40,11.362,4,6,6,6,1,0\\n40,7.031,5,5,4,11,1,1\\n37,11.446,5,3,8,4,0,0\\n3,8.165,13,11,13,9,2,1\\n37,22.682,8,3,8,7,1,1\\n38,68.387,13,14,8,6,1,1\\n16,18.916,8,15,11,7,1,1\\n40,21.057,7,5,4,8,0,1\\n9,9.183,11,8,8,8,0,1\\n2,69.686,5,5,3,5,0,0\\n28,17.085,12,13,3,6,1,1\\n10,13.895,5,6,5,8,1,0\\n31,65.878,5,10,8,4,1,1\\n38,63.619,3,5,4,3,1,0\\n9,12.289,9,3,7,4,0,1\\n9,14.239,6,7,4,6,0,0\\n3,16.714,7,12,5,6,0,1\\n5,18.76,7,13,10,3,0,1\\n31,20.709,8,15,6,4,0,1\\n37,69.554,7,3,7,3,0,0\\n5,16.925,12,11,12,8,1,1\\n40,19.273,7,8,4,7,1,1\\n31,32.018,8,6,4,5,1,0\\n9,12.78,7,4,5,4,0,0\\n10,13.312,13,15,15,4,1,1\\n9,13.948,11,4,3,6,0,1\\n31,20.751,12,15,11,6,0,1\\n2,11.506,13,10,11,8,1,1\\n40,68.709,6,4,3,6,0,1\\n22,16.466,3,4,8,8,1,1\\n4,73.469,8,3,5,8,1,0\\n10,14.56,13,4,3,8,1,1\\n6,15.273,15,10,7,8,0,1\\n9,17.042,7,6,4,7,1,0\\n2,64.536,6,4,7,5,0,0\\n9,7.33,4,5,5,11,0,1\\n23,9.178,10,13,10,3,2,1\\n18,20.105,8,6,10,5,1,1\\n41,60.605,3,4,7,6,0,0\\n35,73.107,7,5,5,4,0,0\\n41,74.696,8,4,7,5,0,0\\n10,6.99,11,7,7,5,0,1\\n13,10.026,13,15,14,3,1,1\\n32,11.969,7,8,7,7,1,0\\n14,13.858,12,5,7,7,0,1\\n40,62.755,3,8,4,7,0,1\\n31,16.789,13,6,6,8,0,1\\n5,11.703,10,14,11,7,1,1\\n3,58.664,11,11,10,8,0,1\\n41,71.89,4,6,3,7,0,0\\n10,8.543,11,15,13,8,3,1\\n30,11.016,15,14,10,7,0,1\\n10,70.989,9,13,8,5,1,1\\n12,77.731,7,7,7,7,0,1\\n16,14.956,14,13,14,5,1,1\\n8,11.475,10,14,11,6,3,1\\n0,6.265,6,3,13,4,0,1\\n10,69.63,11,7,4,6,1,1\\n23,21.842,8,8,4,4,0,0\\n9,17.917,3,3,6,7,0,0\\n31,11.331,6,3,8,8,1,1\\n29,11.587,11,11,12,5,1,1\\n5,17.81,10,6,8,6,1,1\\n3,22.057,12,4,6,7,1,1\\n40,15.402,7,6,8,3,0,1\\n37,26.522,6,5,4,7,1,0\\n38,62.351,6,4,8,7,0,0\\n38,67.086,8,8,8,4,1,0\\n35,72.523,6,3,6,3,0,0\\n43,14.394,7,4,4,8,0,0\\n2,9.513,10,7,7,6,0,1\\n39,23.428,11,12,11,6,0,1\\n23,16.741,11,11,6,3,0,1\\n41,20.429,10,9,10,6,1,1\\n41,6.365,4,4,4,8,1,0\\n6,15.527,6,8,3,3,1,1\\n41,7.738,11,15,11,8,2,1\\n40,15.243,7,5,5,4,0,1\\n5,15.152,15,7,7,5,0,1\\n21,19.288,11,13,15,3,1,1\\n6,71.521,5,3,8,4,0,0\\n24,23.122,14,3,9,5,1,1\\n39,16.12,14,11,10,4,0,1\\n41,12.131,8,3,4,5,1,0\\n1,61.136,3,7,6,7,1,0\\n10,24.4,14,5,11,6,1,1\\n5,15.54,8,8,5,3,0,1\\n23,76.248,7,5,8,7,0,0\\n38,20.659,5,4,5,6,1,0\\n41,68.617,7,10,6,3,0,1\\n6,7.168,7,8,4,5,1,1\\n3,23.528,8,11,8,3,0,1\\n13,34.33,7,6,6,8,0,0\\n8,66.838,6,14,8,3,0,1\\n31,13.364,10,4,3,7,1,1\\n19,74.089,4,6,5,4,1,0\\n41,69.327,4,7,6,4,0,0\\n41,8.501,12,10,5,6,2,1\\n5,5.864,10,8,5,7,0,1\\n2,64.828,11,12,7,4,0,1\\n9,11.663,7,6,7,9,1,1\\n38,73.012,3,6,4,5,1,0\\n40,14.323,12,7,8,4,0,1\\n32,6.836,11,15,12,3,0,1\\n10,73.305,10,15,10,8,3,1\\n38,18.869,6,7,7,6,0,0\\n31,22.474,8,8,11,5,0,1\\n9,15.904,10,8,8,6,1,1\\n40,61.413,7,8,3,8,1,1\\n41,18.559,9,12,14,8,1,1\\n9,75.588,5,5,8,4,0,0\\n3,72.991,6,4,7,8,1,0\\n0,68.706,6,7,8,8,1,0\\n30,11.759,13,12,13,8,1,1\\n5,59.421,7,7,5,7,1,0\\n9,20.316,7,5,8,3,1,1\\n37,66.535,4,7,4,6,1,0\\n10,8.82,4,5,3,4,1,0\\n6,21.472,11,10,8,3,0,1\\n41,68.892,6,3,4,8,1,0\\n41,41.666,15,9,6,8,1,1\\n8,22.09,12,7,7,5,1,1\\n1,19.142,4,8,14,7,0,1\\n28,22.846,10,3,6,3,0,1\\n19,8.563,13,7,7,6,0,1\\n8,65.226,5,4,7,8,0,0\\n10,5.643,3,5,5,5,0,1\\n13,65.948,8,7,7,7,1,0\\n5,24.318,12,12,8,4,1,1\\n41,14.28,8,4,4,8,0,0\\n5,21.454,6,7,7,7,0,0\\n40,6.625,3,5,11,6,1,1\\n3,15.364,8,3,3,6,1,0\\n25,20.164,15,11,11,4,0,1\\n5,13.616,8,6,4,3,0,1\\n37,23.185,6,4,5,5,1,0\\n17,72.416,3,7,3,4,1,0\\n19,70.696,8,5,3,3,0,0\\n33,16.881,10,11,12,7,1,1\\n5,60.24,8,7,8,5,1,0\\n2,17.192,12,5,7,6,1,1\\n40,7.522,9,5,8,6,0,1\\n4,22.535,10,5,6,8,1,1\\n31,9.919,7,5,6,7,1,1\\n3,76.245,7,5,8,4,0,0\\n2,61.29,7,8,3,7,0,0\\n13,21.153,4,14,6,8,1,1\\n2,77.113,7,3,8,3,1,0\\n1,72.068,3,5,7,8,1,0\\n37,11.999,6,3,5,7,1,0\\n23,9.546,7,3,5,7,1,1\\n2,7.698,12,9,3,6,1,1\\n9,27.759,5,7,14,8,1,1\\n3,68.356,4,5,3,8,0,0\\n35,29.201,3,5,7,4,1,0\\n37,13.203,7,7,6,5,1,0\\n8,66.008,5,7,5,6,1,0\\n40,40.352,6,4,5,8,1,0\\n15,16.942,10,13,12,4,1,1\\n21,17.052,13,5,10,8,1,1\\n38,73.811,8,5,8,5,1,0\\n6,72.971,4,5,3,6,1,0\\n40,13.558,10,11,4,5,0,1\\n31,75.918,5,7,7,3,0,0\\n18,11.058,4,3,13,8,0,1\\n4,59.526,5,7,6,4,1,0\\n2,18.979,3,4,10,7,0,1\\n3,67.946,8,7,13,8,1,1\\n31,12.785,4,7,4,4,1,0\\n9,18.976,11,10,4,3,1,1\\n9,80.219,7,3,6,4,1,0\\n41,9.254,13,11,14,5,1,1\\n3,64.037,7,4,8,4,1,0\\n40,11.955,6,4,3,6,0,1\\n21,22.967,7,10,10,8,0,1\\n10,20.613,12,3,5,7,0,1\\n41,9.075,6,3,4,7,0,0\\n5,22.625,14,12,13,5,0,1\\n30,20.766,11,9,7,5,0,1\\n17,20.078,7,5,7,8,1,0\\n23,20.682,7,11,3,4,1,1\\n9,9.928,13,4,5,7,1,1\\n37,14.566,11,5,6,8,0,1\\n13,62.656,5,4,5,6,0,0\\n40,63.099,6,3,5,3,1,0\\n16,64.281,4,5,5,5,1,0\\n13,13.359,10,8,6,4,0,1\\n6,18.501,6,8,5,6,0,1\\n2,14.481,11,3,14,6,0,1\\n41,7.571,12,12,12,5,1,1\\n30,12.394,11,7,8,5,1,1\\n10,17.583,12,13,12,3,3,1\\n19,33.904,5,6,5,8,1,0\\n4,12.165,12,11,4,5,0,1\\n1,6.324,12,10,4,3,0,1\\n16,8.297,7,5,4,7,0,0\\n28,19.9,13,10,3,6,1,1\\n37,22.902,10,13,11,4,0,1\\n35,8.091,6,5,8,5,1,0\\n9,23.716,3,8,3,5,1,0\\n27,19.155,13,14,11,4,1,1\\n8,64.194,5,7,3,6,0,0\\n13,12.117,11,10,11,7,1,1\\n5,70.247,4,7,6,4,1,0\\n9,11.595,13,4,7,3,1,1\\n20,24.486,12,12,11,3,1,1\\n40,65.404,5,8,5,4,1,1\\n17,19.701,11,13,6,10,3,1\\n9,11.83,5,6,3,3,0,0\\n10,22.447,9,3,10,6,1,1\\n22,7.991,10,13,15,4,1,1\\n6,18.282,4,5,7,3,0,0\\n40,72.207,5,8,3,6,1,1\\n30,11.222,14,3,8,7,0,1\\n10,75.574,8,3,3,11,0,1\\n22,18.042,15,11,12,8,1,1\\n40,8.621,9,8,8,5,1,1\\n3,5.363,4,6,4,3,0,1\\n13,75.891,3,5,8,8,0,0\\n1,15.782,6,11,4,7,0,1\\n4,16.334,7,8,5,5,1,1\\n6,12.858,10,11,11,3,0,1\\n6,63.614,5,4,4,4,0,0\\n40,21.671,15,10,10,5,4,1\\n31,74.686,3,4,6,7,1,0\\n31,8.0,5,8,7,3,0,0\\n9,16.56,11,8,6,9,1,1\\n23,16.49,10,7,7,8,0,1\\n13,14.713,3,7,8,4,1,1\\n17,19.683,7,11,13,13,1,1\\n6,17.594,11,7,10,4,1,1\\n10,12.576,5,6,10,3,0,1\\n4,12.268,14,10,15,4,0,1\\n3,18.244,15,6,5,6,1,1\\n9,67.553,11,5,5,8,1,1\\n38,21.641,11,5,3,10,0,1\\n3,63.693,5,6,4,4,0,0\\n9,69.416,10,5,12,3,0,1\\n5,60.086,3,4,5,6,0,0\\n17,59.321,7,8,8,4,1,0\\n6,6.261,8,5,6,4,0,1\\n38,10.282,7,7,7,6,1,1\\n41,17.047,15,8,3,3,1,1\\n9,13.036,11,10,7,7,1,1\\n41,33.32,8,5,8,4,0,0\\n10,16.115,12,3,12,3,2,1\\n37,8.369,7,6,6,5,0,0\\n27,72.532,7,4,5,7,0,0\\n3,80.664,7,3,4,6,1,0\\n23,19.707,13,10,10,6,0,1\\n10,13.762,8,8,8,7,0,1\\n9,10.442,11,14,7,6,1,1\\n32,9.691,13,10,10,6,1,1\\n37,21.999,11,7,3,4,1,1\\n37,10.15,11,15,12,7,0,1\\n3,30.135,3,4,8,3,1,0\\n23,16.807,13,10,14,3,1,1\\n13,10.768,7,8,11,3,0,1\\n4,24.984,6,8,8,8,1,0\\n37,20.889,15,10,8,3,0,1\\n40,71.992,10,11,8,6,0,1\\n20,24.68,6,3,8,3,1,0\\n6,8.325,10,14,10,7,2,1\\n2,14.849,8,3,11,5,1,1\\n28,11.034,15,15,15,6,1,1\\n9,8.56,10,11,14,4,1,1\\n9,69.772,6,7,3,3,0,0\\n41,66.184,7,4,6,4,1,0\\n12,17.618,3,11,10,7,2,1\\n10,40.773,12,13,13,5,0,1\\n6,6.112,5,6,7,7,1,0\\n13,75.738,7,5,6,7,0,0\\n18,20.051,7,4,8,4,1,1\\n13,18.501,12,12,5,6,1,1\\n41,68.023,8,3,4,8,0,0\\n38,19.019,4,5,7,7,1,0\\n0,64.929,6,5,4,8,0,1\\n31,30.22,5,3,5,4,0,0\\n13,16.512,4,8,5,7,1,0\\n2,21.333,13,7,5,3,0,1\\n9,15.379,13,10,15,3,0,1\\n31,14.672,11,13,11,5,0,1\\n18,80.138,7,4,6,6,1,0\\n31,20.253,5,3,8,8,0,0\\n37,12.874,5,8,8,8,1,0\\n37,72.212,5,6,5,3,0,0\\n5,11.535,8,4,7,3,0,0\\n31,16.408,15,15,10,6,1,1\\n9,60.309,3,6,6,3,0,0\\n37,18.162,5,8,3,5,0,0\\n6,73.498,3,7,4,5,0,0\\n9,14.677,10,6,13,6,0,1\\n40,18.887,8,6,11,3,0,1\\n23,11.823,5,6,11,8,0,1\\n19,12.789,15,14,9,8,0,1\\n19,58.808,5,7,8,8,0,0\\n37,32.721,6,6,7,7,1,1\\n40,21.223,14,14,7,5,1,1\\n6,24.267,15,11,5,8,1,1\\n41,70.218,8,4,8,5,1,0\\n6,14.561,4,5,3,8,0,0\\n31,58.818,6,3,5,3,1,0\\n38,16.393,8,8,8,8,0,0\\n37,10.168,10,5,5,8,1,1\\n4,37.642,3,7,3,5,1,0\\n19,75.161,6,6,5,4,0,0\\n10,20.034,4,5,3,5,0,1\\n13,18.201,11,11,14,3,0,1\\n5,19.175,15,12,14,3,1,1\\n37,61.63,7,5,3,3,1,1\\n28,65.894,7,3,3,6,1,0\\n40,17.033,9,8,5,7,0,1\\n4,66.136,6,6,8,3,1,0\\n38,71.909,6,3,7,6,1,0\\n13,27.942,8,8,4,4,0,0\\n5,67.543,10,6,3,4,0,1\\n9,66.707,11,13,8,6,1,1\\n6,18.038,8,4,11,5,0,1\\n37,12.487,10,5,8,7,0,1\\n18,20.02,7,8,5,4,1,1\\n40,73.983,3,4,4,3,0,0\\n1,11.969,10,13,11,4,0,1\\n7,58.874,4,6,7,6,0,0\\n29,16.48,3,12,13,3,1,1\\n8,68.296,6,7,6,6,0,0\\n6,22.004,7,6,6,7,0,1\\n3,30.951,6,5,6,3,0,0\\n4,23.571,5,7,5,3,0,0\\n5,62.532,4,6,3,8,0,0\\n6,37.788,8,5,4,5,1,0\\n13,15.208,7,8,8,5,0,1\\n2,20.733,11,5,4,3,0,1\\n38,16.718,11,13,12,4,6,1\\n40,21.376,14,10,13,7,1,1\\n38,18.017,5,4,8,6,1,0\\n38,21.251,8,3,5,6,0,0\\n6,14.154,13,10,8,4,1,1\\n6,20.265,10,15,4,4,0,1\\n11,22.732,3,3,7,7,1,1\\n9,20.05,6,8,4,6,0,1\\n1,15.202,3,4,3,7,0,0\\n31,80.809,4,3,4,5,0,0\\n2,24.728,7,7,4,4,1,0\\n40,16.587,15,10,10,8,0,1\\n6,41.128,3,4,5,7,0,0\\n9,18.172,6,4,8,4,1,1\\n40,7.385,15,6,8,7,0,1\\n10,19.029,5,3,6,3,0,1\\n23,19.803,9,10,3,8,1,1\\n9,42.041,6,4,4,5,1,0\\n3,60.161,6,6,7,5,1,1\\n22,9.142,12,7,8,5,0,1\\n2,10.854,8,8,3,4,0,1\\n0,16.903,12,9,10,5,1,1\\n6,14.766,8,5,6,8,1,1\\n4,16.089,5,5,4,5,0,0\\n6,63.296,3,5,4,6,1,1\\n5,67.833,8,6,5,6,1,0\\n9,60.644,13,7,6,6,1,1\\n40,74.922,7,4,8,3,1,0\\n19,14.959,8,15,10,8,0,1\\n41,61.286,7,8,7,3,0,1\\n9,17.933,8,6,5,6,1,1\\n13,15.847,5,11,5,8,1,1\\n38,21.237,10,8,7,6,1,1\\n2,10.077,10,3,6,4,1,1\\n23,16.805,8,3,9,3,0,1\\n30,13.572,9,6,14,7,0,1\\n2,6.999,8,5,4,6,1,0\\n5,16.108,10,8,11,5,2,1\\n41,5.185,12,4,8,4,1,1\\n5,25.534,8,7,8,8,0,1\\n38,30.828,7,8,8,3,0,1\\n10,67.897,4,5,10,7,1,1\\n30,14.507,11,15,11,7,1,1\\n38,7.458,9,3,7,8,1,1\\n41,12.804,11,3,5,3,1,1\\n38,19.81,3,8,6,4,0,0\\n40,67.522,8,5,7,5,1,0\\n40,73.206,8,6,5,6,0,0\\n41,13.028,3,7,6,4,1,1\\n0,76.01,8,15,14,7,2,1\\n38,75.721,8,6,7,3,0,0\\n23,12.662,13,7,11,8,0,1\\n38,21.563,7,8,4,6,1,1\\n6,13.987,12,3,15,3,1,1\\n38,14.646,6,3,3,7,0,1\\n10,71.1,3,6,3,6,0,1\\n5,8.196,15,13,9,5,0,1\\n2,17.289,4,6,8,6,0,0\\n5,22.043,11,15,13,7,1,1\\n11,19.878,8,10,11,3,1,1\\n2,16.54,11,12,11,6,1,1\\n3,69.527,8,4,7,4,1,0\\n19,18.109,12,10,15,5,0,1\\n2,17.371,8,8,6,4,0,1\\n6,21.531,11,14,15,8,1,1\\n9,15.612,6,7,4,3,1,1\\n41,65.896,4,7,8,3,0,0\\n42,17.919,3,4,4,8,0,0\\n28,17.0,4,11,10,3,1,1\\n0,17.261,12,12,9,6,1,1\\n22,21.615,13,7,8,5,1,1\\n3,23.557,8,5,8,3,1,1\\n19,10.466,11,14,6,3,0,1\\n1,13.054,7,6,5,8,1,0\\n1,66.935,8,12,4,3,0,1\\n2,8.17,12,6,6,3,0,1\\n23,13.901,10,10,12,3,0,1\\n10,20.925,6,5,5,8,10,1\\n40,59.672,8,4,3,3,0,1\\n10,76.146,6,5,7,4,1,1\\n40,12.52,15,14,6,5,1,1\\n1,10.14,6,8,13,8,0,1\\n31,72.246,6,8,8,4,0,0\\n3,7.615,13,6,3,8,1,1\\n27,65.626,4,7,8,7,0,0\\n9,73.268,6,11,3,7,1,1\\n3,10.284,10,14,15,5,0,1\\n40,73.547,4,7,6,6,1,1\\n4,22.291,11,3,4,4,1,1\\n10,64.806,8,4,7,8,0,1\\n40,22.447,12,10,5,5,0,1\\n40,39.997,5,8,4,4,1,0\\n37,18.104,6,8,3,6,1,0\\n40,7.864,15,3,5,7,0,1\\n23,71.073,6,3,8,6,0,1\\n23,72.196,9,5,4,7,0,1\\n40,76.346,7,4,4,8,1,1\\n41,59.967,7,8,6,5,1,0\\n17,22.117,10,10,4,8,0,1\\n1,22.523,6,6,7,3,1,0\\n5,66.913,8,3,7,7,0,1\\n40,74.813,5,6,4,6,1,0\\n10,9.372,7,9,5,4,0,1\\n10,9.722,7,3,7,5,1,1\\n41,70.952,10,12,6,7,0,1\\n31,14.813,12,8,7,8,1,1\\n40,18.708,10,14,11,6,1,1\\n10,68.119,13,11,9,5,1,1\\n40,10.332,15,10,12,8,0,1\\n9,7.538,7,3,4,6,1,1\\n40,18.307,6,6,4,8,1,0\\n10,11.284,8,8,7,6,0,1\\n6,10.744,12,4,4,5,1,1\\n22,42.592,4,6,3,7,1,0\\n31,73.383,3,7,6,3,1,0\\n19,76.174,6,3,4,4,0,0\\n6,68.657,3,5,4,7,0,0\\n40,18.196,5,6,3,7,0,1\\n17,68.004,8,7,3,5,0,0\\n40,15.71,3,3,6,5,0,1\\n41,11.1,8,6,8,4,0,0\\n35,14.471,12,3,4,8,0,1\\n40,19.433,8,8,4,8,1,1\\n2,12.28,10,15,8,4,1,1\\n35,69.969,7,6,6,4,1,0\\n19,74.384,8,5,5,4,1,0\\n44,5.931,5,8,6,4,0,0\\n10,24.361,8,8,4,4,0,0\\n6,10.578,7,3,5,5,0,1\\n9,11.344,11,13,4,8,0,1\\n9,21.946,15,13,6,6,1,1\\n37,12.318,8,8,3,5,0,0\\n41,22.134,11,7,7,8,1,1\\n26,10.607,10,11,13,5,1,1\\n18,62.091,4,3,7,8,1,0\\n6,74.338,8,7,6,4,0,0\\n41,20.634,4,7,7,5,0,0\\n16,74.017,7,4,5,7,1,0\\n2,70.46,7,5,6,4,0,0\\n1,79.243,7,5,3,8,1,0\\n40,69.14,7,8,4,5,1,1\\n13,23.332,14,12,10,3,2,1\\n'}"
            ]
          },
          "metadata": {
            "tags": []
          },
          "execution_count": 3
        }
      ]
    },
    {
      "cell_type": "code",
      "metadata": {
        "id": "_mrRCrkYUhnp",
        "colab_type": "code",
        "colab": {
          "base_uri": "https://localhost:8080/",
          "height": 206
        },
        "outputId": "838e0b77-61fb-4c04-bd14-e3eb871b0d8d"
      },
      "source": [
        "train = pd.read_csv(\"Train.csv\")\n",
        "train.head()"
      ],
      "execution_count": null,
      "outputs": [
        {
          "output_type": "execute_result",
          "data": {
            "text/html": [
              "<div>\n",
              "<style scoped>\n",
              "    .dataframe tbody tr th:only-of-type {\n",
              "        vertical-align: middle;\n",
              "    }\n",
              "\n",
              "    .dataframe tbody tr th {\n",
              "        vertical-align: top;\n",
              "    }\n",
              "\n",
              "    .dataframe thead th {\n",
              "        text-align: right;\n",
              "    }\n",
              "</style>\n",
              "<table border=\"1\" class=\"dataframe\">\n",
              "  <thead>\n",
              "    <tr style=\"text-align: right;\">\n",
              "      <th></th>\n",
              "      <th>City</th>\n",
              "      <th>Location_Score</th>\n",
              "      <th>Internal_Audit_Score</th>\n",
              "      <th>External_Audit_Score</th>\n",
              "      <th>Fin_Score</th>\n",
              "      <th>Loss_score</th>\n",
              "      <th>Past_Results</th>\n",
              "      <th>IsUnderRisk</th>\n",
              "    </tr>\n",
              "  </thead>\n",
              "  <tbody>\n",
              "    <tr>\n",
              "      <th>0</th>\n",
              "      <td>2</td>\n",
              "      <td>8.032</td>\n",
              "      <td>14</td>\n",
              "      <td>8</td>\n",
              "      <td>3</td>\n",
              "      <td>6</td>\n",
              "      <td>0</td>\n",
              "      <td>1</td>\n",
              "    </tr>\n",
              "    <tr>\n",
              "      <th>1</th>\n",
              "      <td>31</td>\n",
              "      <td>77.730</td>\n",
              "      <td>8</td>\n",
              "      <td>3</td>\n",
              "      <td>3</td>\n",
              "      <td>8</td>\n",
              "      <td>1</td>\n",
              "      <td>0</td>\n",
              "    </tr>\n",
              "    <tr>\n",
              "      <th>2</th>\n",
              "      <td>40</td>\n",
              "      <td>59.203</td>\n",
              "      <td>3</td>\n",
              "      <td>12</td>\n",
              "      <td>11</td>\n",
              "      <td>3</td>\n",
              "      <td>0</td>\n",
              "      <td>1</td>\n",
              "    </tr>\n",
              "    <tr>\n",
              "      <th>3</th>\n",
              "      <td>12</td>\n",
              "      <td>73.080</td>\n",
              "      <td>4</td>\n",
              "      <td>5</td>\n",
              "      <td>7</td>\n",
              "      <td>6</td>\n",
              "      <td>0</td>\n",
              "      <td>0</td>\n",
              "    </tr>\n",
              "    <tr>\n",
              "      <th>4</th>\n",
              "      <td>4</td>\n",
              "      <td>15.666</td>\n",
              "      <td>13</td>\n",
              "      <td>15</td>\n",
              "      <td>6</td>\n",
              "      <td>7</td>\n",
              "      <td>2</td>\n",
              "      <td>1</td>\n",
              "    </tr>\n",
              "  </tbody>\n",
              "</table>\n",
              "</div>"
            ],
            "text/plain": [
              "   City  Location_Score  ...  Past_Results  IsUnderRisk\n",
              "0     2           8.032  ...             0            1\n",
              "1    31          77.730  ...             1            0\n",
              "2    40          59.203  ...             0            1\n",
              "3    12          73.080  ...             0            0\n",
              "4     4          15.666  ...             2            1\n",
              "\n",
              "[5 rows x 8 columns]"
            ]
          },
          "metadata": {
            "tags": []
          },
          "execution_count": 2
        }
      ]
    },
    {
      "cell_type": "code",
      "metadata": {
        "id": "A6bJsUcmWHvD",
        "colab_type": "code",
        "colab": {
          "base_uri": "https://localhost:8080/",
          "height": 35
        },
        "outputId": "da530457-0004-48a9-8573-b0ed941d6865"
      },
      "source": [
        "train.shape"
      ],
      "execution_count": null,
      "outputs": [
        {
          "output_type": "execute_result",
          "data": {
            "text/plain": [
              "(543, 8)"
            ]
          },
          "metadata": {
            "tags": []
          },
          "execution_count": 3
        }
      ]
    },
    {
      "cell_type": "code",
      "metadata": {
        "id": "M0qWsD_2WK9s",
        "colab_type": "code",
        "colab": {
          "base_uri": "https://localhost:8080/",
          "height": 290
        },
        "outputId": "ffea5778-a206-4e30-a78f-4463ce9e4024"
      },
      "source": [
        "train.info()"
      ],
      "execution_count": null,
      "outputs": [
        {
          "output_type": "stream",
          "text": [
            "<class 'pandas.core.frame.DataFrame'>\n",
            "RangeIndex: 543 entries, 0 to 542\n",
            "Data columns (total 8 columns):\n",
            " #   Column                Non-Null Count  Dtype  \n",
            "---  ------                --------------  -----  \n",
            " 0   City                  543 non-null    int64  \n",
            " 1   Location_Score        543 non-null    float64\n",
            " 2   Internal_Audit_Score  543 non-null    int64  \n",
            " 3   External_Audit_Score  543 non-null    int64  \n",
            " 4   Fin_Score             543 non-null    int64  \n",
            " 5   Loss_score            543 non-null    int64  \n",
            " 6   Past_Results          543 non-null    int64  \n",
            " 7   IsUnderRisk           543 non-null    int64  \n",
            "dtypes: float64(1), int64(7)\n",
            "memory usage: 34.1 KB\n"
          ],
          "name": "stdout"
        }
      ]
    },
    {
      "cell_type": "code",
      "metadata": {
        "id": "pc1O1tEQWJX0",
        "colab_type": "code",
        "colab": {
          "base_uri": "https://localhost:8080/",
          "height": 181
        },
        "outputId": "1514f988-966a-4f24-e72a-e4f9fa49c877"
      },
      "source": [
        "train.isnull().sum()"
      ],
      "execution_count": null,
      "outputs": [
        {
          "output_type": "execute_result",
          "data": {
            "text/plain": [
              "City                    0\n",
              "Location_Score          0\n",
              "Internal_Audit_Score    0\n",
              "External_Audit_Score    0\n",
              "Fin_Score               0\n",
              "Loss_score              0\n",
              "Past_Results            0\n",
              "IsUnderRisk             0\n",
              "dtype: int64"
            ]
          },
          "metadata": {
            "tags": []
          },
          "execution_count": 5
        }
      ]
    },
    {
      "cell_type": "code",
      "metadata": {
        "id": "LU0ALTIVWMvb",
        "colab_type": "code",
        "colab": {
          "base_uri": "https://localhost:8080/",
          "height": 300
        },
        "outputId": "5438f59c-2ff8-48dd-c486-20a76a900c8c"
      },
      "source": [
        "train.describe()"
      ],
      "execution_count": null,
      "outputs": [
        {
          "output_type": "execute_result",
          "data": {
            "text/html": [
              "<div>\n",
              "<style scoped>\n",
              "    .dataframe tbody tr th:only-of-type {\n",
              "        vertical-align: middle;\n",
              "    }\n",
              "\n",
              "    .dataframe tbody tr th {\n",
              "        vertical-align: top;\n",
              "    }\n",
              "\n",
              "    .dataframe thead th {\n",
              "        text-align: right;\n",
              "    }\n",
              "</style>\n",
              "<table border=\"1\" class=\"dataframe\">\n",
              "  <thead>\n",
              "    <tr style=\"text-align: right;\">\n",
              "      <th></th>\n",
              "      <th>City</th>\n",
              "      <th>Location_Score</th>\n",
              "      <th>Internal_Audit_Score</th>\n",
              "      <th>External_Audit_Score</th>\n",
              "      <th>Fin_Score</th>\n",
              "      <th>Loss_score</th>\n",
              "      <th>Past_Results</th>\n",
              "      <th>IsUnderRisk</th>\n",
              "    </tr>\n",
              "  </thead>\n",
              "  <tbody>\n",
              "    <tr>\n",
              "      <th>count</th>\n",
              "      <td>543.000000</td>\n",
              "      <td>543.000000</td>\n",
              "      <td>543.000000</td>\n",
              "      <td>543.000000</td>\n",
              "      <td>543.000000</td>\n",
              "      <td>543.000000</td>\n",
              "      <td>543.000000</td>\n",
              "      <td>543.000000</td>\n",
              "    </tr>\n",
              "    <tr>\n",
              "      <th>mean</th>\n",
              "      <td>19.576427</td>\n",
              "      <td>32.259346</td>\n",
              "      <td>8.189687</td>\n",
              "      <td>7.327808</td>\n",
              "      <td>7.046041</td>\n",
              "      <td>5.530387</td>\n",
              "      <td>0.613260</td>\n",
              "      <td>0.626151</td>\n",
              "    </tr>\n",
              "    <tr>\n",
              "      <th>std</th>\n",
              "      <td>14.722687</td>\n",
              "      <td>24.887291</td>\n",
              "      <td>3.312022</td>\n",
              "      <td>3.450667</td>\n",
              "      <td>3.156978</td>\n",
              "      <td>1.839124</td>\n",
              "      <td>0.764509</td>\n",
              "      <td>0.484270</td>\n",
              "    </tr>\n",
              "    <tr>\n",
              "      <th>min</th>\n",
              "      <td>0.000000</td>\n",
              "      <td>5.185000</td>\n",
              "      <td>3.000000</td>\n",
              "      <td>3.000000</td>\n",
              "      <td>3.000000</td>\n",
              "      <td>3.000000</td>\n",
              "      <td>0.000000</td>\n",
              "      <td>0.000000</td>\n",
              "    </tr>\n",
              "    <tr>\n",
              "      <th>25%</th>\n",
              "      <td>6.000000</td>\n",
              "      <td>13.565000</td>\n",
              "      <td>6.000000</td>\n",
              "      <td>5.000000</td>\n",
              "      <td>5.000000</td>\n",
              "      <td>4.000000</td>\n",
              "      <td>0.000000</td>\n",
              "      <td>0.000000</td>\n",
              "    </tr>\n",
              "    <tr>\n",
              "      <th>50%</th>\n",
              "      <td>14.000000</td>\n",
              "      <td>19.803000</td>\n",
              "      <td>8.000000</td>\n",
              "      <td>7.000000</td>\n",
              "      <td>7.000000</td>\n",
              "      <td>6.000000</td>\n",
              "      <td>1.000000</td>\n",
              "      <td>1.000000</td>\n",
              "    </tr>\n",
              "    <tr>\n",
              "      <th>75%</th>\n",
              "      <td>37.000000</td>\n",
              "      <td>62.594000</td>\n",
              "      <td>11.000000</td>\n",
              "      <td>10.000000</td>\n",
              "      <td>8.000000</td>\n",
              "      <td>7.000000</td>\n",
              "      <td>1.000000</td>\n",
              "      <td>1.000000</td>\n",
              "    </tr>\n",
              "    <tr>\n",
              "      <th>max</th>\n",
              "      <td>44.000000</td>\n",
              "      <td>80.809000</td>\n",
              "      <td>15.000000</td>\n",
              "      <td>15.000000</td>\n",
              "      <td>15.000000</td>\n",
              "      <td>13.000000</td>\n",
              "      <td>10.000000</td>\n",
              "      <td>1.000000</td>\n",
              "    </tr>\n",
              "  </tbody>\n",
              "</table>\n",
              "</div>"
            ],
            "text/plain": [
              "             City  Location_Score  ...  Past_Results  IsUnderRisk\n",
              "count  543.000000      543.000000  ...    543.000000   543.000000\n",
              "mean    19.576427       32.259346  ...      0.613260     0.626151\n",
              "std     14.722687       24.887291  ...      0.764509     0.484270\n",
              "min      0.000000        5.185000  ...      0.000000     0.000000\n",
              "25%      6.000000       13.565000  ...      0.000000     0.000000\n",
              "50%     14.000000       19.803000  ...      1.000000     1.000000\n",
              "75%     37.000000       62.594000  ...      1.000000     1.000000\n",
              "max     44.000000       80.809000  ...     10.000000     1.000000\n",
              "\n",
              "[8 rows x 8 columns]"
            ]
          },
          "metadata": {
            "tags": []
          },
          "execution_count": 6
        }
      ]
    },
    {
      "cell_type": "code",
      "metadata": {
        "id": "IGUOnrR7WPjx",
        "colab_type": "code",
        "colab": {
          "base_uri": "https://localhost:8080/",
          "height": 283
        },
        "outputId": "bc49ed28-10c8-48bc-90ac-351da281586e"
      },
      "source": [
        "train['IsUnderRisk'].astype('int').plot.hist()"
      ],
      "execution_count": null,
      "outputs": [
        {
          "output_type": "execute_result",
          "data": {
            "text/plain": [
              "<matplotlib.axes._subplots.AxesSubplot at 0x7efcfea2dd68>"
            ]
          },
          "metadata": {
            "tags": []
          },
          "execution_count": 7
        },
        {
          "output_type": "display_data",
          "data": {
            "image/png": "[encoded data removed]",
            "text/plain": [
              "<Figure size 432x288 with 1 Axes>"
            ]
          },
          "metadata": {
            "tags": [],
            "needs_background": "light"
          }
        }
      ]
    },
    {
      "cell_type": "code",
      "metadata": {
        "id": "yH4H1xLbWQ0x",
        "colab_type": "code",
        "colab": {
          "base_uri": "https://localhost:8080/",
          "height": 35
        },
        "outputId": "2ba4f448-6b75-4ba6-d88a-1604d3941643"
      },
      "source": [
        "train.City.nunique()"
      ],
      "execution_count": null,
      "outputs": [
        {
          "output_type": "execute_result",
          "data": {
            "text/plain": [
              "43"
            ]
          },
          "metadata": {
            "tags": []
          },
          "execution_count": 8
        }
      ]
    },
    {
      "cell_type": "code",
      "metadata": {
        "id": "sRzn6EddWVtO",
        "colab_type": "code",
        "colab": {}
      },
      "source": [
        "X = train.iloc[:,:-1]\n",
        "Y = train.iloc[:,-1]"
      ],
      "execution_count": null,
      "outputs": []
    },
    {
      "cell_type": "code",
      "metadata": {
        "id": "FAxjHF0bWUd8",
        "colab_type": "code",
        "colab": {}
      },
      "source": [
        "X =pd.get_dummies(X,columns=[\"City\"],drop_first=True)"
      ],
      "execution_count": null,
      "outputs": []
    },
    {
      "cell_type": "code",
      "metadata": {
        "id": "j2pJne1QWXAA",
        "colab_type": "code",
        "colab": {
          "base_uri": "https://localhost:8080/",
          "height": 226
        },
        "outputId": "d1ae9bd4-8ae0-4da9-b488-dd97a222e2db"
      },
      "source": [
        "X.head()"
      ],
      "execution_count": null,
      "outputs": [
        {
          "output_type": "execute_result",
          "data": {
            "text/html": [
              "<div>\n",
              "<style scoped>\n",
              "    .dataframe tbody tr th:only-of-type {\n",
              "        vertical-align: middle;\n",
              "    }\n",
              "\n",
              "    .dataframe tbody tr th {\n",
              "        vertical-align: top;\n",
              "    }\n",
              "\n",
              "    .dataframe thead th {\n",
              "        text-align: right;\n",
              "    }\n",
              "</style>\n",
              "<table border=\"1\" class=\"dataframe\">\n",
              "  <thead>\n",
              "    <tr style=\"text-align: right;\">\n",
              "      <th></th>\n",
              "      <th>Location_Score</th>\n",
              "      <th>Internal_Audit_Score</th>\n",
              "      <th>External_Audit_Score</th>\n",
              "      <th>Fin_Score</th>\n",
              "      <th>Loss_score</th>\n",
              "      <th>Past_Results</th>\n",
              "      <th>City_1</th>\n",
              "      <th>City_2</th>\n",
              "      <th>City_3</th>\n",
              "      <th>City_4</th>\n",
              "      <th>City_5</th>\n",
              "      <th>City_6</th>\n",
              "      <th>City_7</th>\n",
              "      <th>City_8</th>\n",
              "      <th>City_9</th>\n",
              "      <th>City_10</th>\n",
              "      <th>City_11</th>\n",
              "      <th>City_12</th>\n",
              "      <th>City_13</th>\n",
              "      <th>City_14</th>\n",
              "      <th>City_15</th>\n",
              "      <th>City_16</th>\n",
              "      <th>City_17</th>\n",
              "      <th>City_18</th>\n",
              "      <th>City_19</th>\n",
              "      <th>City_20</th>\n",
              "      <th>City_21</th>\n",
              "      <th>City_22</th>\n",
              "      <th>City_23</th>\n",
              "      <th>City_24</th>\n",
              "      <th>City_25</th>\n",
              "      <th>City_26</th>\n",
              "      <th>City_27</th>\n",
              "      <th>City_28</th>\n",
              "      <th>City_29</th>\n",
              "      <th>City_30</th>\n",
              "      <th>City_31</th>\n",
              "      <th>City_32</th>\n",
              "      <th>City_33</th>\n",
              "      <th>City_35</th>\n",
              "      <th>City_37</th>\n",
              "      <th>City_38</th>\n",
              "      <th>City_39</th>\n",
              "      <th>City_40</th>\n",
              "      <th>City_41</th>\n",
              "      <th>City_42</th>\n",
              "      <th>City_43</th>\n",
              "      <th>City_44</th>\n",
              "    </tr>\n",
              "  </thead>\n",
              "  <tbody>\n",
              "    <tr>\n",
              "      <th>0</th>\n",
              "      <td>8.032</td>\n",
              "      <td>14</td>\n",
              "      <td>8</td>\n",
              "      <td>3</td>\n",
              "      <td>6</td>\n",
              "      <td>0</td>\n",
              "      <td>0</td>\n",
              "      <td>1</td>\n",
              "      <td>0</td>\n",
              "      <td>0</td>\n",
              "      <td>0</td>\n",
              "      <td>0</td>\n",
              "      <td>0</td>\n",
              "      <td>0</td>\n",
              "      <td>0</td>\n",
              "      <td>0</td>\n",
              "      <td>0</td>\n",
              "      <td>0</td>\n",
              "      <td>0</td>\n",
              "      <td>0</td>\n",
              "      <td>0</td>\n",
              "      <td>0</td>\n",
              "      <td>0</td>\n",
              "      <td>0</td>\n",
              "      <td>0</td>\n",
              "      <td>0</td>\n",
              "      <td>0</td>\n",
              "      <td>0</td>\n",
              "      <td>0</td>\n",
              "      <td>0</td>\n",
              "      <td>0</td>\n",
              "      <td>0</td>\n",
              "      <td>0</td>\n",
              "      <td>0</td>\n",
              "      <td>0</td>\n",
              "      <td>0</td>\n",
              "      <td>0</td>\n",
              "      <td>0</td>\n",
              "      <td>0</td>\n",
              "      <td>0</td>\n",
              "      <td>0</td>\n",
              "      <td>0</td>\n",
              "      <td>0</td>\n",
              "      <td>0</td>\n",
              "      <td>0</td>\n",
              "      <td>0</td>\n",
              "      <td>0</td>\n",
              "      <td>0</td>\n",
              "    </tr>\n",
              "    <tr>\n",
              "      <th>1</th>\n",
              "      <td>77.730</td>\n",
              "      <td>8</td>\n",
              "      <td>3</td>\n",
              "      <td>3</td>\n",
              "      <td>8</td>\n",
              "      <td>1</td>\n",
              "      <td>0</td>\n",
              "      <td>0</td>\n",
              "      <td>0</td>\n",
              "      <td>0</td>\n",
              "      <td>0</td>\n",
              "      <td>0</td>\n",
              "      <td>0</td>\n",
              "      <td>0</td>\n",
              "      <td>0</td>\n",
              "      <td>0</td>\n",
              "      <td>0</td>\n",
              "      <td>0</td>\n",
              "      <td>0</td>\n",
              "      <td>0</td>\n",
              "      <td>0</td>\n",
              "      <td>0</td>\n",
              "      <td>0</td>\n",
              "      <td>0</td>\n",
              "      <td>0</td>\n",
              "      <td>0</td>\n",
              "      <td>0</td>\n",
              "      <td>0</td>\n",
              "      <td>0</td>\n",
              "      <td>0</td>\n",
              "      <td>0</td>\n",
              "      <td>0</td>\n",
              "      <td>0</td>\n",
              "      <td>0</td>\n",
              "      <td>0</td>\n",
              "      <td>0</td>\n",
              "      <td>1</td>\n",
              "      <td>0</td>\n",
              "      <td>0</td>\n",
              "      <td>0</td>\n",
              "      <td>0</td>\n",
              "      <td>0</td>\n",
              "      <td>0</td>\n",
              "      <td>0</td>\n",
              "      <td>0</td>\n",
              "      <td>0</td>\n",
              "      <td>0</td>\n",
              "      <td>0</td>\n",
              "    </tr>\n",
              "    <tr>\n",
              "      <th>2</th>\n",
              "      <td>59.203</td>\n",
              "      <td>3</td>\n",
              "      <td>12</td>\n",
              "      <td>11</td>\n",
              "      <td>3</td>\n",
              "      <td>0</td>\n",
              "      <td>0</td>\n",
              "      <td>0</td>\n",
              "      <td>0</td>\n",
              "      <td>0</td>\n",
              "      <td>0</td>\n",
              "      <td>0</td>\n",
              "      <td>0</td>\n",
              "      <td>0</td>\n",
              "      <td>0</td>\n",
              "      <td>0</td>\n",
              "      <td>0</td>\n",
              "      <td>0</td>\n",
              "      <td>0</td>\n",
              "      <td>0</td>\n",
              "      <td>0</td>\n",
              "      <td>0</td>\n",
              "      <td>0</td>\n",
              "      <td>0</td>\n",
              "      <td>0</td>\n",
              "      <td>0</td>\n",
              "      <td>0</td>\n",
              "      <td>0</td>\n",
              "      <td>0</td>\n",
              "      <td>0</td>\n",
              "      <td>0</td>\n",
              "      <td>0</td>\n",
              "      <td>0</td>\n",
              "      <td>0</td>\n",
              "      <td>0</td>\n",
              "      <td>0</td>\n",
              "      <td>0</td>\n",
              "      <td>0</td>\n",
              "      <td>0</td>\n",
              "      <td>0</td>\n",
              "      <td>0</td>\n",
              "      <td>0</td>\n",
              "      <td>0</td>\n",
              "      <td>1</td>\n",
              "      <td>0</td>\n",
              "      <td>0</td>\n",
              "      <td>0</td>\n",
              "      <td>0</td>\n",
              "    </tr>\n",
              "    <tr>\n",
              "      <th>3</th>\n",
              "      <td>73.080</td>\n",
              "      <td>4</td>\n",
              "      <td>5</td>\n",
              "      <td>7</td>\n",
              "      <td>6</td>\n",
              "      <td>0</td>\n",
              "      <td>0</td>\n",
              "      <td>0</td>\n",
              "      <td>0</td>\n",
              "      <td>0</td>\n",
              "      <td>0</td>\n",
              "      <td>0</td>\n",
              "      <td>0</td>\n",
              "      <td>0</td>\n",
              "      <td>0</td>\n",
              "      <td>0</td>\n",
              "      <td>0</td>\n",
              "      <td>1</td>\n",
              "      <td>0</td>\n",
              "      <td>0</td>\n",
              "      <td>0</td>\n",
              "      <td>0</td>\n",
              "      <td>0</td>\n",
              "      <td>0</td>\n",
              "      <td>0</td>\n",
              "      <td>0</td>\n",
              "      <td>0</td>\n",
              "      <td>0</td>\n",
              "      <td>0</td>\n",
              "      <td>0</td>\n",
              "      <td>0</td>\n",
              "      <td>0</td>\n",
              "      <td>0</td>\n",
              "      <td>0</td>\n",
              "      <td>0</td>\n",
              "      <td>0</td>\n",
              "      <td>0</td>\n",
              "      <td>0</td>\n",
              "      <td>0</td>\n",
              "      <td>0</td>\n",
              "      <td>0</td>\n",
              "      <td>0</td>\n",
              "      <td>0</td>\n",
              "      <td>0</td>\n",
              "      <td>0</td>\n",
              "      <td>0</td>\n",
              "      <td>0</td>\n",
              "      <td>0</td>\n",
              "    </tr>\n",
              "    <tr>\n",
              "      <th>4</th>\n",
              "      <td>15.666</td>\n",
              "      <td>13</td>\n",
              "      <td>15</td>\n",
              "      <td>6</td>\n",
              "      <td>7</td>\n",
              "      <td>2</td>\n",
              "      <td>0</td>\n",
              "      <td>0</td>\n",
              "      <td>0</td>\n",
              "      <td>1</td>\n",
              "      <td>0</td>\n",
              "      <td>0</td>\n",
              "      <td>0</td>\n",
              "      <td>0</td>\n",
              "      <td>0</td>\n",
              "      <td>0</td>\n",
              "      <td>0</td>\n",
              "      <td>0</td>\n",
              "      <td>0</td>\n",
              "      <td>0</td>\n",
              "      <td>0</td>\n",
              "      <td>0</td>\n",
              "      <td>0</td>\n",
              "      <td>0</td>\n",
              "      <td>0</td>\n",
              "      <td>0</td>\n",
              "      <td>0</td>\n",
              "      <td>0</td>\n",
              "      <td>0</td>\n",
              "      <td>0</td>\n",
              "      <td>0</td>\n",
              "      <td>0</td>\n",
              "      <td>0</td>\n",
              "      <td>0</td>\n",
              "      <td>0</td>\n",
              "      <td>0</td>\n",
              "      <td>0</td>\n",
              "      <td>0</td>\n",
              "      <td>0</td>\n",
              "      <td>0</td>\n",
              "      <td>0</td>\n",
              "      <td>0</td>\n",
              "      <td>0</td>\n",
              "      <td>0</td>\n",
              "      <td>0</td>\n",
              "      <td>0</td>\n",
              "      <td>0</td>\n",
              "      <td>0</td>\n",
              "    </tr>\n",
              "  </tbody>\n",
              "</table>\n",
              "</div>"
            ],
            "text/plain": [
              "   Location_Score  Internal_Audit_Score  ...  City_43  City_44\n",
              "0           8.032                    14  ...        0        0\n",
              "1          77.730                     8  ...        0        0\n",
              "2          59.203                     3  ...        0        0\n",
              "3          73.080                     4  ...        0        0\n",
              "4          15.666                    13  ...        0        0\n",
              "\n",
              "[5 rows x 48 columns]"
            ]
          },
          "metadata": {
            "tags": []
          },
          "execution_count": 11
        }
      ]
    },
    {
      "cell_type": "code",
      "metadata": {
        "id": "5lS-KmNOauQf",
        "colab_type": "code",
        "colab": {
          "base_uri": "https://localhost:8080/",
          "height": 35
        },
        "outputId": "b438876f-0a8e-4406-d4e0-2036720afccc"
      },
      "source": [
        "X.shape"
      ],
      "execution_count": null,
      "outputs": [
        {
          "output_type": "execute_result",
          "data": {
            "text/plain": [
              "(543, 48)"
            ]
          },
          "metadata": {
            "tags": []
          },
          "execution_count": 12
        }
      ]
    },
    {
      "cell_type": "code",
      "metadata": {
        "id": "GiI1hH2hWYRz",
        "colab_type": "code",
        "colab": {}
      },
      "source": [
        "from sklearn.preprocessing import StandardScaler\n",
        "scaler = StandardScaler()"
      ],
      "execution_count": null,
      "outputs": []
    },
    {
      "cell_type": "code",
      "metadata": {
        "id": "0msRW8miWax0",
        "colab_type": "code",
        "colab": {}
      },
      "source": [
        "X = scaler.fit_transform(X)"
      ],
      "execution_count": null,
      "outputs": []
    },
    {
      "cell_type": "code",
      "metadata": {
        "id": "5E0KWIiKWcCP",
        "colab_type": "code",
        "colab": {}
      },
      "source": [
        "tree = DecisionTreeClassifier()\n",
        "best_tree = GridSearchCV(tree,param_grid={'max_depth':[3,4,5,6,7,8,9,10,11,12,13,14,15,16,17,18],'criterion':['gini','entropy'],'min_samples_leaf':[5,6,7,8,9,10,11,12,13,14,15]},n_jobs=-1,cv=5)"
      ],
      "execution_count": null,
      "outputs": []
    },
    {
      "cell_type": "code",
      "metadata": {
        "id": "s2hwZK40WjJO",
        "colab_type": "code",
        "colab": {
          "base_uri": "https://localhost:8080/",
          "height": 399
        },
        "outputId": "2f3fe3a0-96e6-4581-f86f-e25191307bc8"
      },
      "source": [
        "best_tree.fit(X=X,y=Y)"
      ],
      "execution_count": null,
      "outputs": [
        {
          "output_type": "execute_result",
          "data": {
            "text/plain": [
              "GridSearchCV(cv=5, error_score=nan,\n",
              "             estimator=DecisionTreeClassifier(ccp_alpha=0.0, class_weight=None,\n",
              "                                              criterion='gini', max_depth=None,\n",
              "                                              max_features=None,\n",
              "                                              max_leaf_nodes=None,\n",
              "                                              min_impurity_decrease=0.0,\n",
              "                                              min_impurity_split=None,\n",
              "                                              min_samples_leaf=1,\n",
              "                                              min_samples_split=2,\n",
              "                                              min_weight_fraction_leaf=0.0,\n",
              "                                              presort='deprecated',\n",
              "                                              random_state=None,\n",
              "                                              splitter='best'),\n",
              "             iid='deprecated', n_jobs=-1,\n",
              "             param_grid={'criterion': ['gini', 'entropy'],\n",
              "                         'max_depth': [3, 4, 5, 6, 7, 8, 9, 10, 11, 12, 13, 14,\n",
              "                                       15, 16, 17, 18],\n",
              "                         'min_samples_leaf': [5, 6, 7, 8, 9, 10, 11, 12, 13, 14,\n",
              "                                              15]},\n",
              "             pre_dispatch='2*n_jobs', refit=True, return_train_score=False,\n",
              "             scoring=None, verbose=0)"
            ]
          },
          "metadata": {
            "tags": []
          },
          "execution_count": 16
        }
      ]
    },
    {
      "cell_type": "code",
      "metadata": {
        "id": "qyDy0UDfWquS",
        "colab_type": "code",
        "colab": {
          "base_uri": "https://localhost:8080/",
          "height": 35
        },
        "outputId": "7674eb12-115c-4334-bfd0-9672ab21f1e6"
      },
      "source": [
        "best_tree.best_params_"
      ],
      "execution_count": null,
      "outputs": [
        {
          "output_type": "execute_result",
          "data": {
            "text/plain": [
              "{'criterion': 'entropy', 'max_depth': 7, 'min_samples_leaf': 5}"
            ]
          },
          "metadata": {
            "tags": []
          },
          "execution_count": 17
        }
      ]
    },
    {
      "cell_type": "code",
      "metadata": {
        "id": "ft4dcqceWw9g",
        "colab_type": "code",
        "colab": {}
      },
      "source": [
        "X_train,X_test,Y_train,Y_test = train_test_split(X,Y,test_size=0.25,stratify=Y,random_state=100)"
      ],
      "execution_count": null,
      "outputs": []
    },
    {
      "cell_type": "code",
      "metadata": {
        "id": "3DOnrLeyWtNJ",
        "colab_type": "code",
        "colab": {
          "base_uri": "https://localhost:8080/",
          "height": 126
        },
        "outputId": "f8597c4a-de1a-4f0f-e925-4d8d8f1790a5"
      },
      "source": [
        "classifier = DecisionTreeClassifier(criterion = \"entropy\", random_state = 100,\n",
        "                               max_depth=7, min_samples_leaf=5)\n",
        "\n",
        "classifier.fit(X_train, Y_train)"
      ],
      "execution_count": null,
      "outputs": [
        {
          "output_type": "execute_result",
          "data": {
            "text/plain": [
              "DecisionTreeClassifier(ccp_alpha=0.0, class_weight=None, criterion='entropy',\n",
              "                       max_depth=7, max_features=None, max_leaf_nodes=None,\n",
              "                       min_impurity_decrease=0.0, min_impurity_split=None,\n",
              "                       min_samples_leaf=5, min_samples_split=2,\n",
              "                       min_weight_fraction_leaf=0.0, presort='deprecated',\n",
              "                       random_state=100, splitter='best')"
            ]
          },
          "metadata": {
            "tags": []
          },
          "execution_count": 19
        }
      ]
    },
    {
      "cell_type": "code",
      "metadata": {
        "id": "GxWn7DtVW6AC",
        "colab_type": "code",
        "colab": {
          "base_uri": "https://localhost:8080/",
          "height": 144
        },
        "outputId": "ff9771c3-320c-4b9f-8678-29828e08ad20"
      },
      "source": [
        "Y_pred = classifier.predict(scaler.fit_transform(X_test))\n",
        "Y_pred"
      ],
      "execution_count": null,
      "outputs": [
        {
          "output_type": "execute_result",
          "data": {
            "text/plain": [
              "array([1, 1, 0, 1, 0, 1, 1, 1, 0, 1, 1, 1, 1, 0, 0, 0, 1, 1, 0, 1, 0, 1,\n",
              "       1, 0, 1, 1, 0, 1, 0, 0, 1, 0, 0, 1, 0, 0, 0, 1, 0, 1, 0, 1, 1, 0,\n",
              "       0, 1, 1, 1, 1, 1, 0, 1, 0, 0, 1, 1, 1, 1, 0, 1, 0, 1, 1, 1, 0, 0,\n",
              "       1, 1, 1, 1, 0, 1, 0, 1, 1, 1, 1, 0, 1, 1, 0, 0, 1, 0, 1, 1, 0, 1,\n",
              "       1, 0, 0, 1, 0, 0, 0, 1, 0, 0, 0, 1, 1, 0, 0, 1, 0, 1, 1, 1, 1, 1,\n",
              "       1, 0, 0, 1, 1, 1, 1, 1, 1, 1, 1, 1, 0, 1, 1, 1, 0, 0, 1, 1, 0, 1,\n",
              "       0, 1, 1, 1])"
            ]
          },
          "metadata": {
            "tags": []
          },
          "execution_count": 20
        }
      ]
    },
    {
      "cell_type": "code",
      "metadata": {
        "id": "CxOqcU-iXBTp",
        "colab_type": "code",
        "colab": {
          "base_uri": "https://localhost:8080/",
          "height": 53
        },
        "outputId": "33052f93-ae24-4727-abfb-0e06d72950b2"
      },
      "source": [
        "c = confusion_matrix(Y_test, Y_pred)\n",
        "c"
      ],
      "execution_count": null,
      "outputs": [
        {
          "output_type": "execute_result",
          "data": {
            "text/plain": [
              "array([[40, 11],\n",
              "       [13, 72]])"
            ]
          },
          "metadata": {
            "tags": []
          },
          "execution_count": 21
        }
      ]
    },
    {
      "cell_type": "code",
      "metadata": {
        "id": "Aa-sxr7TXCz1",
        "colab_type": "code",
        "colab": {
          "base_uri": "https://localhost:8080/",
          "height": 35
        },
        "outputId": "f416a9d5-d307-478d-dbf3-a58ea7c228ec"
      },
      "source": [
        "accuracy_score(Y_test,Y_pred)"
      ],
      "execution_count": null,
      "outputs": [
        {
          "output_type": "execute_result",
          "data": {
            "text/plain": [
              "0.8235294117647058"
            ]
          },
          "metadata": {
            "tags": []
          },
          "execution_count": 22
        }
      ]
    },
    {
      "cell_type": "code",
      "metadata": {
        "id": "PgvQtQ2aXEZH",
        "colab_type": "code",
        "colab": {}
      },
      "source": [
        "score = cross_val_score(estimator=classifier,X=X,y=Y,cv=5,n_jobs=-1)"
      ],
      "execution_count": null,
      "outputs": []
    },
    {
      "cell_type": "code",
      "metadata": {
        "id": "qbjgq_m7XKRO",
        "colab_type": "code",
        "colab": {
          "base_uri": "https://localhost:8080/",
          "height": 35
        },
        "outputId": "7c384495-ac3d-4d73-fb19-6f555be4d3a8"
      },
      "source": [
        "np.average(score)"
      ],
      "execution_count": null,
      "outputs": [
        {
          "output_type": "execute_result",
          "data": {
            "text/plain": [
              "0.8488277268093782"
            ]
          },
          "metadata": {
            "tags": []
          },
          "execution_count": 24
        }
      ]
    },
    {
      "cell_type": "code",
      "metadata": {
        "id": "1i4m-RIKXM-P",
        "colab_type": "code",
        "colab": {}
      },
      "source": [
        "boosted_tree = AdaBoostClassifier(base_estimator=classifier,n_estimators=50,random_state=100)"
      ],
      "execution_count": null,
      "outputs": []
    },
    {
      "cell_type": "code",
      "metadata": {
        "id": "sMzpxH3YXXVv",
        "colab_type": "code",
        "colab": {}
      },
      "source": [
        "score_ada = cross_val_score(estimator=boosted_tree,X=X,y=Y,cv=5,n_jobs=-1)"
      ],
      "execution_count": null,
      "outputs": []
    },
    {
      "cell_type": "code",
      "metadata": {
        "id": "z2lhoc3nXYAO",
        "colab_type": "code",
        "colab": {
          "base_uri": "https://localhost:8080/",
          "height": 35
        },
        "outputId": "6eb0e13a-f756-49d5-b06b-04491df71f99"
      },
      "source": [
        "np.average(score_ada)"
      ],
      "execution_count": null,
      "outputs": [
        {
          "output_type": "execute_result",
          "data": {
            "text/plain": [
              "0.8176520557254502"
            ]
          },
          "metadata": {
            "tags": []
          },
          "execution_count": 27
        }
      ]
    },
    {
      "cell_type": "code",
      "metadata": {
        "id": "jbYTTEW4XZRo",
        "colab_type": "code",
        "colab": {}
      },
      "source": [
        "bagged_tree = BaggingClassifier(base_estimator=classifier,n_estimators=100)"
      ],
      "execution_count": null,
      "outputs": []
    },
    {
      "cell_type": "code",
      "metadata": {
        "id": "l8JIDvlRXxff",
        "colab_type": "code",
        "colab": {}
      },
      "source": [
        "score_bagging = cross_val_score(estimator=bagged_tree,X=X,y=Y,cv=5,n_jobs=-1)"
      ],
      "execution_count": null,
      "outputs": []
    },
    {
      "cell_type": "code",
      "metadata": {
        "id": "HaIwsB-DYREJ",
        "colab_type": "code",
        "colab": {
          "base_uri": "https://localhost:8080/",
          "height": 35
        },
        "outputId": "c3561162-75f6-43ba-be4d-dcf43f28cb80"
      },
      "source": [
        "np.average(score_bagging)"
      ],
      "execution_count": null,
      "outputs": [
        {
          "output_type": "execute_result",
          "data": {
            "text/plain": [
              "0.86357458375807"
            ]
          },
          "metadata": {
            "tags": []
          },
          "execution_count": 30
        }
      ]
    },
    {
      "cell_type": "code",
      "metadata": {
        "id": "dKT2hYOWYTIJ",
        "colab_type": "code",
        "colab": {
          "resources": {
            "http://localhost:8080/nbextensions/google.colab/files.js": {
              "data": "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",
              "ok": true,
              "headers": [
                [
                  "content-type",
                  "application/javascript"
                ]
              ],
              "status": 200,
              "status_text": "OK"
            }
          },
          "base_uri": "https://localhost:8080/",
          "height": 112
        },
        "outputId": "d1a44990-771f-4df5-9364-6de18fc060a0"
      },
      "source": [
        "from google.colab import files\n",
        "files.upload()"
      ],
      "execution_count": null,
      "outputs": [
        {
          "output_type": "display_data",
          "data": {
            "text/html": [
              "\n",
              "     <input type=\"file\" id=\"files-e16d2794-be89-4d1d-8085-3aa4e5baa2a2\" name=\"files[]\" multiple disabled\n",
              "        style=\"border:none\" />\n",
              "     <output id=\"result-e16d2794-be89-4d1d-8085-3aa4e5baa2a2\">\n",
              "      Upload widget is only available when the cell has been executed in the\n",
              "      current browser session. Please rerun this cell to enable.\n",
              "      </output>\n",
              "      <script src=\"/nbextensions/google.colab/files.js\"></script> "
            ],
            "text/plain": [
              "<IPython.core.display.HTML object>"
            ]
          },
          "metadata": {
            "tags": []
          }
        },
        {
          "output_type": "stream",
          "text": [
            "Saving Test.csv to Test.csv\n"
          ],
          "name": "stdout"
        },
        {
          "output_type": "execute_result",
          "data": {
            "text/plain": [
              "{'Test.csv': b'City,Location_Score,Internal_Audit_Score,External_Audit_Score,Fin_Score,Loss_score,Past_Results\\n41,18.272,13,12,9,7,0\\n17,64.799,6,10,7,4,1\\n31,68.89,3,3,7,8,0\\n3,16.492,15,10,7,4,1\\n9,17.178,7,3,8,3,1\\n30,64.151,5,8,5,8,0\\n23,35.149,6,7,4,3,1\\n31,63.258,5,6,3,5,0\\n29,6.163,7,14,3,4,0\\n5,62.562,10,14,5,3,0\\n35,14.521,11,6,3,5,0\\n4,64.968,4,7,3,4,1\\n23,13.614,8,4,7,7,1\\n37,7.754,6,7,4,5,0\\n12,16.445,6,15,15,5,1\\n37,69.472,5,3,3,6,1\\n9,18.84,6,5,8,4,0\\n37,31.485,8,3,7,8,1\\n20,11.418,7,9,7,8,0\\n10,20.22,13,14,12,6,1\\n38,14.292,5,8,5,5,1\\n22,8.949,6,4,5,8,1\\n40,60.878,3,11,7,4,0\\n37,71.927,5,7,8,4,1\\n5,74.542,8,7,5,6,1\\n9,21.54,8,15,10,4,1\\n6,14.902,7,4,8,3,1\\n41,12.679,10,15,11,3,1\\n40,71.995,10,14,4,3,0\\n41,70.479,3,6,3,3,1\\n4,75.694,6,8,4,5,1\\n26,15.29,15,8,8,4,1\\n23,10.552,11,5,4,5,1\\n23,9.689,12,10,13,3,2\\n37,59.47,6,6,4,7,0\\n23,67.137,5,7,7,6,0\\n28,9.16,15,11,15,3,1\\n37,10.364,5,5,7,3,1\\n41,70.015,8,7,4,5,1\\n37,76.166,6,3,5,6,1\\n40,11.909,15,3,3,8,1\\n9,11.532,4,4,6,6,1\\n40,8.813,6,6,4,7,1\\n31,25.807,3,6,6,6,0\\n34,11.649,11,12,12,3,1\\n2,69.585,6,8,6,6,0\\n40,34.46,5,5,5,8,0\\n13,7.14,10,10,14,5,1\\n1,18.098,11,7,5,3,0\\n23,61.045,3,11,8,6,0\\n41,75.06,10,4,4,4,0\\n9,20.981,11,5,8,7,1\\n6,75.149,5,6,5,8,0\\n31,22.93,8,13,9,6,1\\n37,8.929,3,8,5,8,0\\n4,70.452,7,3,3,6,1\\n40,14.09,10,9,14,5,2\\n8,76.782,8,8,6,3,0\\n9,36.991,5,4,8,7,0\\n23,9.347,6,8,8,8,1\\n21,17.141,5,4,5,3,1\\n39,69.422,6,3,7,6,1\\n19,20.011,7,8,6,8,1\\n13,63.497,4,15,3,3,1\\n9,10.867,3,6,3,4,1\\n9,59.895,8,6,4,8,0\\n40,14.722,13,12,5,6,1\\n40,16.382,5,6,3,3,0\\n9,21.779,7,6,4,8,0\\n38,23.923,6,6,4,5,0\\n2,18.137,3,3,8,3,0\\n37,20.891,10,10,10,7,0\\n10,14.552,10,6,11,4,5\\n2,24.254,15,11,13,8,2\\n38,9.483,8,5,8,7,0\\n0,19.968,7,10,12,8,1\\n9,16.489,8,5,7,5,1\\n40,17.641,10,10,3,8,1\\n38,61.137,6,5,5,8,0\\n28,17.913,11,4,13,7,0\\n11,12.582,11,12,10,5,0\\n11,69.736,8,11,8,4,1\\n1,22.301,7,6,8,4,0\\n37,77.668,8,5,3,3,0\\n12,77.497,5,5,6,8,0\\n37,67.345,4,3,7,3,0\\n39,20.108,10,9,10,7,1\\n23,7.627,7,8,3,3,0\\n22,20.249,4,7,8,6,1\\n36,70.052,5,9,6,3,1\\n37,34.943,7,4,8,6,0\\n40,13.047,8,7,14,5,1\\n41,7.052,11,4,4,3,1\\n37,61.237,8,4,6,6,0\\n5,12.156,9,8,10,6,0\\n3,11.083,14,11,6,5,0\\n2,76.327,8,7,6,8,1\\n9,61.427,7,3,6,6,0\\n9,28.466,8,3,8,4,1\\n40,7.724,12,5,4,8,0\\n22,7.278,8,6,4,6,0\\n37,62.974,8,5,4,4,1\\n22,20.781,12,13,11,6,1\\n3,67.933,4,10,4,8,1\\n41,13.286,6,3,8,4,0\\n13,7.108,11,14,14,4,0\\n6,22.053,4,7,3,6,1\\n5,20.186,13,15,15,6,0\\n38,19.025,3,5,5,8,0\\n30,23.931,10,13,14,8,0\\n2,62.952,4,6,8,7,1\\n6,19.707,7,4,6,5,1\\n40,5.808,7,11,7,8,1\\n31,68.645,7,3,7,5,1\\n31,64.455,6,8,3,5,1\\n23,68.512,7,12,8,5,0\\n22,14.062,10,12,10,7,1\\n2,74.233,7,12,6,3,1\\n38,20.05,4,14,13,6,1\\n3,58.576,10,15,10,5,0\\n2,16.898,8,4,3,5,0\\n4,13.668,11,13,3,6,1\\n41,59.899,3,6,5,4,0\\n9,32.142,4,3,6,4,0\\n12,67.397,8,6,3,6,1\\n8,11.921,10,14,14,5,1\\n10,18.416,3,5,5,8,0\\n41,17.444,10,6,4,5,0\\n3,73.677,11,4,5,6,0\\n0,6.041,10,3,5,6,1\\n40,6.917,5,4,8,3,0\\n12,64.758,4,6,4,8,0\\n41,64.43,4,4,4,3,1\\n37,58.964,6,7,3,6,0\\n1,17.652,11,14,6,7,2\\n19,65.905,9,11,8,4,0\\n37,17.567,9,8,8,4,0\\n23,22.81,7,6,6,5,0\\n2,67.802,8,5,6,4,1\\n3,69.432,7,8,6,4,0\\n1,21.748,8,10,10,6,1\\n40,21.639,3,6,5,8,1\\n5,9.816,12,4,6,5,0\\n1,59.553,4,14,6,4,1\\n8,40.557,6,6,8,3,0\\n6,17.014,7,4,10,6,1\\n1,22.983,10,12,11,8,0\\n19,10.658,13,13,12,6,0\\n37,74.905,7,8,6,7,1\\n1,62.766,7,7,5,6,0\\n8,9.755,11,8,13,7,2\\n6,61.76,6,8,4,5,0\\n2,8.283,5,4,3,8,0\\n19,64.47,4,7,3,8,0\\n2,19.369,4,9,6,5,1\\n19,11.546,8,7,3,7,0\\n10,19.028,8,3,5,5,0\\n40,8.032,11,11,3,8,2\\n9,10.099,4,5,12,3,0\\n13,22.776,10,3,12,10,1\\n40,7.349,11,11,11,6,1\\n6,33.668,3,4,8,6,0\\n40,61.095,5,5,5,4,0\\n31,12.499,8,8,7,7,0\\n6,13.028,11,6,5,6,0\\n6,16.039,7,3,7,4,0\\n3,14.413,8,4,5,8,1\\n3,21.512,13,4,6,8,0\\n41,6.366,15,14,12,6,1\\n2,41.776,8,5,4,6,0\\n9,16.166,12,15,10,3,0\\n40,73.751,11,13,6,3,0\\n1,7.511,14,12,12,8,1\\n6,76.377,7,3,8,3,0\\n41,62.196,8,8,4,4,1\\n10,22.084,7,3,14,4,1\\n4,6.894,6,8,7,7,1\\n9,8.854,12,7,14,4,1\\n41,7.122,8,7,10,4,0\\n10,6.996,14,7,13,8,0\\n19,14.166,10,15,14,6,1\\n41,18.223,6,7,11,8,1\\n3,9.979,15,5,7,6,1\\n18,17.17,8,6,7,7,0\\n40,70.917,8,6,4,3,1\\n27,13.84,5,6,4,4,0\\n6,10.888,12,14,14,7,0\\n6,15.65,15,10,14,4,0\\n2,22.511,12,12,9,6,0\\n8,19.883,7,9,7,4,0\\n18,66.671,7,4,3,4,0\\n3,6.965,4,4,6,7,1\\n28,64.037,6,15,8,7,0\\n31,11.694,11,8,6,6,0\\n9,23.353,10,5,6,8,1\\n31,14.707,13,4,4,6,0\\n31,75.583,4,8,8,6,0\\n13,67.544,11,8,3,6,1\\n40,8.693,15,14,15,7,3\\n41,61.352,3,5,3,8,0\\n13,21.243,13,10,15,8,1\\n31,15.861,3,4,7,7,0\\n9,19.396,6,13,12,7,0\\n9,16.204,13,5,4,6,1\\n9,10.812,12,11,5,8,0\\n40,27.975,4,5,3,7,1\\n12,15.27,8,8,7,7,1\\n0,7.106,8,8,14,8,5\\n38,19.081,3,4,7,4,1\\n9,15.496,10,5,3,4,1\\n19,10.04,6,5,8,6,1\\n2,11.604,13,13,4,8,1\\n2,9.586,8,3,3,6,0\\n5,22.514,11,7,6,3,1\\n9,73.12,6,6,6,8,1\\n8,7.531,11,4,4,7,1\\n1,65.03,3,3,7,6,0\\n1,9.895,8,5,8,7,0\\n9,5.469,6,4,3,5,0\\n41,73.41,5,3,7,4,1\\n28,16.596,6,4,6,5,0\\n31,72.562,7,3,11,8,0\\n1,33.662,4,5,4,5,0\\n6,18.415,8,5,3,6,0\\n6,65.557,10,12,9,7,1\\n5,63.253,6,10,3,8,1\\n5,10.222,3,8,7,7,0\\n1,12.685,10,3,4,5,1\\n2,73.165,6,5,5,5,0\\n2,6.952,8,8,5,4,1\\n3,6.796,7,5,4,5,1\\n3,9.197,13,12,10,7,1\\n41,67.581,6,5,3,6,1\\n'}"
            ]
          },
          "metadata": {
            "tags": []
          },
          "execution_count": 34
        }
      ]
    },
    {
      "cell_type": "code",
      "metadata": {
        "id": "f2EuYDrHYct2",
        "colab_type": "code",
        "colab": {}
      },
      "source": [
        "test = pd.read_csv(\"Test.csv\")"
      ],
      "execution_count": null,
      "outputs": []
    },
    {
      "cell_type": "code",
      "metadata": {
        "id": "-vFVHFlbYlee",
        "colab_type": "code",
        "colab": {
          "base_uri": "https://localhost:8080/",
          "height": 206
        },
        "outputId": "d03991ce-dcff-4d3a-ef21-3bc62046857d"
      },
      "source": [
        "test.head()"
      ],
      "execution_count": null,
      "outputs": [
        {
          "output_type": "execute_result",
          "data": {
            "text/html": [
              "<div>\n",
              "<style scoped>\n",
              "    .dataframe tbody tr th:only-of-type {\n",
              "        vertical-align: middle;\n",
              "    }\n",
              "\n",
              "    .dataframe tbody tr th {\n",
              "        vertical-align: top;\n",
              "    }\n",
              "\n",
              "    .dataframe thead th {\n",
              "        text-align: right;\n",
              "    }\n",
              "</style>\n",
              "<table border=\"1\" class=\"dataframe\">\n",
              "  <thead>\n",
              "    <tr style=\"text-align: right;\">\n",
              "      <th></th>\n",
              "      <th>City</th>\n",
              "      <th>Location_Score</th>\n",
              "      <th>Internal_Audit_Score</th>\n",
              "      <th>External_Audit_Score</th>\n",
              "      <th>Fin_Score</th>\n",
              "      <th>Loss_score</th>\n",
              "      <th>Past_Results</th>\n",
              "    </tr>\n",
              "  </thead>\n",
              "  <tbody>\n",
              "    <tr>\n",
              "      <th>0</th>\n",
              "      <td>41</td>\n",
              "      <td>18.272</td>\n",
              "      <td>13</td>\n",
              "      <td>12</td>\n",
              "      <td>9</td>\n",
              "      <td>7</td>\n",
              "      <td>0</td>\n",
              "    </tr>\n",
              "    <tr>\n",
              "      <th>1</th>\n",
              "      <td>17</td>\n",
              "      <td>64.799</td>\n",
              "      <td>6</td>\n",
              "      <td>10</td>\n",
              "      <td>7</td>\n",
              "      <td>4</td>\n",
              "      <td>1</td>\n",
              "    </tr>\n",
              "    <tr>\n",
              "      <th>2</th>\n",
              "      <td>31</td>\n",
              "      <td>68.890</td>\n",
              "      <td>3</td>\n",
              "      <td>3</td>\n",
              "      <td>7</td>\n",
              "      <td>8</td>\n",
              "      <td>0</td>\n",
              "    </tr>\n",
              "    <tr>\n",
              "      <th>3</th>\n",
              "      <td>3</td>\n",
              "      <td>16.492</td>\n",
              "      <td>15</td>\n",
              "      <td>10</td>\n",
              "      <td>7</td>\n",
              "      <td>4</td>\n",
              "      <td>1</td>\n",
              "    </tr>\n",
              "    <tr>\n",
              "      <th>4</th>\n",
              "      <td>9</td>\n",
              "      <td>17.178</td>\n",
              "      <td>7</td>\n",
              "      <td>3</td>\n",
              "      <td>8</td>\n",
              "      <td>3</td>\n",
              "      <td>1</td>\n",
              "    </tr>\n",
              "  </tbody>\n",
              "</table>\n",
              "</div>"
            ],
            "text/plain": [
              "   City  Location_Score  ...  Loss_score  Past_Results\n",
              "0    41          18.272  ...           7             0\n",
              "1    17          64.799  ...           4             1\n",
              "2    31          68.890  ...           8             0\n",
              "3     3          16.492  ...           4             1\n",
              "4     9          17.178  ...           3             1\n",
              "\n",
              "[5 rows x 7 columns]"
            ]
          },
          "metadata": {
            "tags": []
          },
          "execution_count": 58
        }
      ]
    },
    {
      "cell_type": "code",
      "metadata": {
        "id": "crDDhmEJYu9X",
        "colab_type": "code",
        "colab": {}
      },
      "source": [
        "test = pd.get_dummies(test,drop_first=True,columns=['City'])"
      ],
      "execution_count": null,
      "outputs": []
    },
    {
      "cell_type": "code",
      "metadata": {
        "id": "xB7MfWJEazx0",
        "colab_type": "code",
        "colab": {
          "base_uri": "https://localhost:8080/",
          "height": 226
        },
        "outputId": "73f4d52f-a8ab-4052-8c89-139895c0d76c"
      },
      "source": [
        "test.head()"
      ],
      "execution_count": null,
      "outputs": [
        {
          "output_type": "execute_result",
          "data": {
            "text/html": [
              "<div>\n",
              "<style scoped>\n",
              "    .dataframe tbody tr th:only-of-type {\n",
              "        vertical-align: middle;\n",
              "    }\n",
              "\n",
              "    .dataframe tbody tr th {\n",
              "        vertical-align: top;\n",
              "    }\n",
              "\n",
              "    .dataframe thead th {\n",
              "        text-align: right;\n",
              "    }\n",
              "</style>\n",
              "<table border=\"1\" class=\"dataframe\">\n",
              "  <thead>\n",
              "    <tr style=\"text-align: right;\">\n",
              "      <th></th>\n",
              "      <th>Location_Score</th>\n",
              "      <th>Internal_Audit_Score</th>\n",
              "      <th>External_Audit_Score</th>\n",
              "      <th>Fin_Score</th>\n",
              "      <th>Loss_score</th>\n",
              "      <th>Past_Results</th>\n",
              "      <th>City_1</th>\n",
              "      <th>City_2</th>\n",
              "      <th>City_3</th>\n",
              "      <th>City_4</th>\n",
              "      <th>City_5</th>\n",
              "      <th>City_6</th>\n",
              "      <th>City_8</th>\n",
              "      <th>City_9</th>\n",
              "      <th>City_10</th>\n",
              "      <th>City_11</th>\n",
              "      <th>City_12</th>\n",
              "      <th>City_13</th>\n",
              "      <th>City_17</th>\n",
              "      <th>City_18</th>\n",
              "      <th>City_19</th>\n",
              "      <th>City_20</th>\n",
              "      <th>City_21</th>\n",
              "      <th>City_22</th>\n",
              "      <th>City_23</th>\n",
              "      <th>City_26</th>\n",
              "      <th>City_27</th>\n",
              "      <th>City_28</th>\n",
              "      <th>City_29</th>\n",
              "      <th>City_30</th>\n",
              "      <th>City_31</th>\n",
              "      <th>City_34</th>\n",
              "      <th>City_35</th>\n",
              "      <th>City_36</th>\n",
              "      <th>City_37</th>\n",
              "      <th>City_38</th>\n",
              "      <th>City_39</th>\n",
              "      <th>City_40</th>\n",
              "      <th>City_41</th>\n",
              "    </tr>\n",
              "  </thead>\n",
              "  <tbody>\n",
              "    <tr>\n",
              "      <th>0</th>\n",
              "      <td>18.272</td>\n",
              "      <td>13</td>\n",
              "      <td>12</td>\n",
              "      <td>9</td>\n",
              "      <td>7</td>\n",
              "      <td>0</td>\n",
              "      <td>0</td>\n",
              "      <td>0</td>\n",
              "      <td>0</td>\n",
              "      <td>0</td>\n",
              "      <td>0</td>\n",
              "      <td>0</td>\n",
              "      <td>0</td>\n",
              "      <td>0</td>\n",
              "      <td>0</td>\n",
              "      <td>0</td>\n",
              "      <td>0</td>\n",
              "      <td>0</td>\n",
              "      <td>0</td>\n",
              "      <td>0</td>\n",
              "      <td>0</td>\n",
              "      <td>0</td>\n",
              "      <td>0</td>\n",
              "      <td>0</td>\n",
              "      <td>0</td>\n",
              "      <td>0</td>\n",
              "      <td>0</td>\n",
              "      <td>0</td>\n",
              "      <td>0</td>\n",
              "      <td>0</td>\n",
              "      <td>0</td>\n",
              "      <td>0</td>\n",
              "      <td>0</td>\n",
              "      <td>0</td>\n",
              "      <td>0</td>\n",
              "      <td>0</td>\n",
              "      <td>0</td>\n",
              "      <td>0</td>\n",
              "      <td>1</td>\n",
              "    </tr>\n",
              "    <tr>\n",
              "      <th>1</th>\n",
              "      <td>64.799</td>\n",
              "      <td>6</td>\n",
              "      <td>10</td>\n",
              "      <td>7</td>\n",
              "      <td>4</td>\n",
              "      <td>1</td>\n",
              "      <td>0</td>\n",
              "      <td>0</td>\n",
              "      <td>0</td>\n",
              "      <td>0</td>\n",
              "      <td>0</td>\n",
              "      <td>0</td>\n",
              "      <td>0</td>\n",
              "      <td>0</td>\n",
              "      <td>0</td>\n",
              "      <td>0</td>\n",
              "      <td>0</td>\n",
              "      <td>0</td>\n",
              "      <td>1</td>\n",
              "      <td>0</td>\n",
              "      <td>0</td>\n",
              "      <td>0</td>\n",
              "      <td>0</td>\n",
              "      <td>0</td>\n",
              "      <td>0</td>\n",
              "      <td>0</td>\n",
              "      <td>0</td>\n",
              "      <td>0</td>\n",
              "      <td>0</td>\n",
              "      <td>0</td>\n",
              "      <td>0</td>\n",
              "      <td>0</td>\n",
              "      <td>0</td>\n",
              "      <td>0</td>\n",
              "      <td>0</td>\n",
              "      <td>0</td>\n",
              "      <td>0</td>\n",
              "      <td>0</td>\n",
              "      <td>0</td>\n",
              "    </tr>\n",
              "    <tr>\n",
              "      <th>2</th>\n",
              "      <td>68.890</td>\n",
              "      <td>3</td>\n",
              "      <td>3</td>\n",
              "      <td>7</td>\n",
              "      <td>8</td>\n",
              "      <td>0</td>\n",
              "      <td>0</td>\n",
              "      <td>0</td>\n",
              "      <td>0</td>\n",
              "      <td>0</td>\n",
              "      <td>0</td>\n",
              "      <td>0</td>\n",
              "      <td>0</td>\n",
              "      <td>0</td>\n",
              "      <td>0</td>\n",
              "      <td>0</td>\n",
              "      <td>0</td>\n",
              "      <td>0</td>\n",
              "      <td>0</td>\n",
              "      <td>0</td>\n",
              "      <td>0</td>\n",
              "      <td>0</td>\n",
              "      <td>0</td>\n",
              "      <td>0</td>\n",
              "      <td>0</td>\n",
              "      <td>0</td>\n",
              "      <td>0</td>\n",
              "      <td>0</td>\n",
              "      <td>0</td>\n",
              "      <td>0</td>\n",
              "      <td>1</td>\n",
              "      <td>0</td>\n",
              "      <td>0</td>\n",
              "      <td>0</td>\n",
              "      <td>0</td>\n",
              "      <td>0</td>\n",
              "      <td>0</td>\n",
              "      <td>0</td>\n",
              "      <td>0</td>\n",
              "    </tr>\n",
              "    <tr>\n",
              "      <th>3</th>\n",
              "      <td>16.492</td>\n",
              "      <td>15</td>\n",
              "      <td>10</td>\n",
              "      <td>7</td>\n",
              "      <td>4</td>\n",
              "      <td>1</td>\n",
              "      <td>0</td>\n",
              "      <td>0</td>\n",
              "      <td>1</td>\n",
              "      <td>0</td>\n",
              "      <td>0</td>\n",
              "      <td>0</td>\n",
              "      <td>0</td>\n",
              "      <td>0</td>\n",
              "      <td>0</td>\n",
              "      <td>0</td>\n",
              "      <td>0</td>\n",
              "      <td>0</td>\n",
              "      <td>0</td>\n",
              "      <td>0</td>\n",
              "      <td>0</td>\n",
              "      <td>0</td>\n",
              "      <td>0</td>\n",
              "      <td>0</td>\n",
              "      <td>0</td>\n",
              "      <td>0</td>\n",
              "      <td>0</td>\n",
              "      <td>0</td>\n",
              "      <td>0</td>\n",
              "      <td>0</td>\n",
              "      <td>0</td>\n",
              "      <td>0</td>\n",
              "      <td>0</td>\n",
              "      <td>0</td>\n",
              "      <td>0</td>\n",
              "      <td>0</td>\n",
              "      <td>0</td>\n",
              "      <td>0</td>\n",
              "      <td>0</td>\n",
              "    </tr>\n",
              "    <tr>\n",
              "      <th>4</th>\n",
              "      <td>17.178</td>\n",
              "      <td>7</td>\n",
              "      <td>3</td>\n",
              "      <td>8</td>\n",
              "      <td>3</td>\n",
              "      <td>1</td>\n",
              "      <td>0</td>\n",
              "      <td>0</td>\n",
              "      <td>0</td>\n",
              "      <td>0</td>\n",
              "      <td>0</td>\n",
              "      <td>0</td>\n",
              "      <td>0</td>\n",
              "      <td>1</td>\n",
              "      <td>0</td>\n",
              "      <td>0</td>\n",
              "      <td>0</td>\n",
              "      <td>0</td>\n",
              "      <td>0</td>\n",
              "      <td>0</td>\n",
              "      <td>0</td>\n",
              "      <td>0</td>\n",
              "      <td>0</td>\n",
              "      <td>0</td>\n",
              "      <td>0</td>\n",
              "      <td>0</td>\n",
              "      <td>0</td>\n",
              "      <td>0</td>\n",
              "      <td>0</td>\n",
              "      <td>0</td>\n",
              "      <td>0</td>\n",
              "      <td>0</td>\n",
              "      <td>0</td>\n",
              "      <td>0</td>\n",
              "      <td>0</td>\n",
              "      <td>0</td>\n",
              "      <td>0</td>\n",
              "      <td>0</td>\n",
              "      <td>0</td>\n",
              "    </tr>\n",
              "  </tbody>\n",
              "</table>\n",
              "</div>"
            ],
            "text/plain": [
              "   Location_Score  Internal_Audit_Score  ...  City_40  City_41\n",
              "0          18.272                    13  ...        0        1\n",
              "1          64.799                     6  ...        0        0\n",
              "2          68.890                     3  ...        0        0\n",
              "3          16.492                    15  ...        0        0\n",
              "4          17.178                     7  ...        0        0\n",
              "\n",
              "[5 rows x 39 columns]"
            ]
          },
          "metadata": {
            "tags": []
          },
          "execution_count": 60
        }
      ]
    },
    {
      "cell_type": "code",
      "metadata": {
        "id": "kZKaM7UJVyWP",
        "colab_type": "code",
        "colab": {
          "base_uri": "https://localhost:8080/",
          "height": 35
        },
        "outputId": "d647102b-b6a1-462a-c1b6-241386a96aa7"
      },
      "source": [
        "test.shape"
      ],
      "execution_count": null,
      "outputs": [
        {
          "output_type": "execute_result",
          "data": {
            "text/plain": [
              "(233, 39)"
            ]
          },
          "metadata": {
            "tags": []
          },
          "execution_count": 61
        }
      ]
    },
    {
      "cell_type": "code",
      "metadata": {
        "id": "vjL2T8gBV0nE",
        "colab_type": "code",
        "colab": {
          "base_uri": "https://localhost:8080/",
          "height": 35
        },
        "outputId": "9f99f185-ef4d-4944-a61d-ec8dbe058c41"
      },
      "source": [
        "X.shape"
      ],
      "execution_count": null,
      "outputs": [
        {
          "output_type": "execute_result",
          "data": {
            "text/plain": [
              "(543, 48)"
            ]
          },
          "metadata": {
            "tags": []
          },
          "execution_count": 62
        }
      ]
    },
    {
      "cell_type": "code",
      "metadata": {
        "id": "lCX58QGeYpai",
        "colab_type": "code",
        "colab": {}
      },
      "source": [
        "test['City1'] =0\n",
        "test['City2'] =0\n",
        "test['City3'] =0\n",
        "test['City4'] =0\n",
        "test['City5'] =0\n",
        "test['City6'] =0\n",
        "test['City7'] =0\n",
        "test['City8'] =0\n",
        "test['City9'] =0"
      ],
      "execution_count": null,
      "outputs": []
    },
    {
      "cell_type": "code",
      "metadata": {
        "id": "m-5utsPtZEDL",
        "colab_type": "code",
        "colab": {}
      },
      "source": [
        "test = scaler.fit_transform(test)"
      ],
      "execution_count": null,
      "outputs": []
    },
    {
      "cell_type": "code",
      "metadata": {
        "id": "LAio2ivmZ6OO",
        "colab_type": "code",
        "colab": {
          "base_uri": "https://localhost:8080/",
          "height": 253
        },
        "outputId": "0a369781-e4b7-43d5-ab1f-776caf033c0e"
      },
      "source": [
        "test"
      ],
      "execution_count": null,
      "outputs": [
        {
          "output_type": "execute_result",
          "data": {
            "text/plain": [
              "array([[-0.56975664,  1.62344258,  1.30065397, ...,  0.        ,\n",
              "         0.        ,  0.        ],\n",
              "       [ 1.28156004, -0.58492677,  0.73207541, ...,  0.        ,\n",
              "         0.        ,  0.        ],\n",
              "       [ 1.44434158, -1.53137077, -1.25794957, ...,  0.        ,\n",
              "         0.        ,  0.        ],\n",
              "       ...,\n",
              "       [-1.02638849, -0.26944543, -0.68937101, ...,  0.        ,\n",
              "         0.        ,  0.        ],\n",
              "       [-0.93085232,  1.62344258,  1.30065397, ...,  0.        ,\n",
              "         0.        ,  0.        ],\n",
              "       [ 1.39225626, -0.58492677, -0.68937101, ...,  0.        ,\n",
              "         0.        ,  0.        ]])"
            ]
          },
          "metadata": {
            "tags": []
          },
          "execution_count": 67
        }
      ]
    },
    {
      "cell_type": "code",
      "metadata": {
        "id": "wic8X0ENZtAZ",
        "colab_type": "code",
        "colab": {
          "base_uri": "https://localhost:8080/",
          "height": 344
        },
        "outputId": "3e72baba-c3eb-41f4-8fdf-87ec46f2bd20"
      },
      "source": [
        "bagged_tree.fit(scaler.fit_transform(X),Y)"
      ],
      "execution_count": null,
      "outputs": [
        {
          "output_type": "execute_result",
          "data": {
            "text/plain": [
              "BaggingClassifier(base_estimator=DecisionTreeClassifier(ccp_alpha=0.0,\n",
              "                                                        class_weight=None,\n",
              "                                                        criterion='entropy',\n",
              "                                                        max_depth=7,\n",
              "                                                        max_features=None,\n",
              "                                                        max_leaf_nodes=None,\n",
              "                                                        min_impurity_decrease=0.0,\n",
              "                                                        min_impurity_split=None,\n",
              "                                                        min_samples_leaf=5,\n",
              "                                                        min_samples_split=2,\n",
              "                                                        min_weight_fraction_leaf=0.0,\n",
              "                                                        presort='deprecated',\n",
              "                                                        random_state=100,\n",
              "                                                        splitter='best'),\n",
              "                  bootstrap=True, bootstrap_features=False, max_features=1.0,\n",
              "                  max_samples=1.0, n_estimators=100, n_jobs=None,\n",
              "                  oob_score=False, random_state=None, verbose=0,\n",
              "                  warm_start=False)"
            ]
          },
          "metadata": {
            "tags": []
          },
          "execution_count": 70
        }
      ]
    },
    {
      "cell_type": "code",
      "metadata": {
        "id": "2Qd-pU2KZyna",
        "colab_type": "code",
        "colab": {
          "base_uri": "https://localhost:8080/",
          "height": 217
        },
        "outputId": "0d017e67-e2ca-49b0-b274-159aac3565e7"
      },
      "source": [
        "bagged_tree.predict(test)"
      ],
      "execution_count": null,
      "outputs": [
        {
          "output_type": "execute_result",
          "data": {
            "text/plain": [
              "array([1, 1, 0, 1, 1, 0, 0, 0, 1, 1, 1, 0, 0, 0, 1, 0, 1, 0, 1, 1, 0, 0,\n",
              "       1, 0, 0, 1, 1, 1, 1, 0, 0, 1, 1, 1, 0, 0, 1, 0, 0, 0, 1, 0, 0, 0,\n",
              "       1, 0, 0, 1, 1, 1, 1, 1, 0, 1, 0, 0, 1, 0, 0, 0, 0, 0, 1, 1, 0, 0,\n",
              "       1, 0, 1, 0, 0, 1, 1, 1, 1, 1, 1, 1, 0, 1, 1, 1, 1, 0, 0, 0, 1, 1,\n",
              "       0, 1, 0, 1, 1, 0, 1, 1, 0, 0, 0, 1, 0, 0, 1, 1, 0, 1, 0, 1, 0, 1,\n",
              "       0, 1, 1, 0, 0, 1, 1, 1, 1, 1, 0, 1, 0, 0, 0, 1, 0, 1, 1, 1, 0, 0,\n",
              "       0, 0, 1, 1, 1, 1, 0, 0, 1, 0, 1, 1, 0, 1, 1, 1, 0, 0, 1, 0, 0, 0,\n",
              "       1, 0, 1, 1, 1, 1, 1, 0, 0, 1, 1, 1, 0, 1, 1, 0, 1, 1, 1, 0, 0, 1,\n",
              "       0, 1, 1, 1, 1, 1, 1, 0, 0, 0, 1, 1, 1, 1, 0, 0, 1, 1, 1, 1, 0, 1,\n",
              "       1, 0, 1, 0, 1, 1, 1, 0, 1, 1, 0, 1, 0, 1, 0, 1, 0, 1, 0, 1, 0, 0,\n",
              "       0, 1, 0, 1, 1, 1, 0, 1, 0, 1, 0, 1, 0])"
            ]
          },
          "metadata": {
            "tags": []
          },
          "execution_count": 71
        }
      ]
    },
    {
      "cell_type": "code",
      "metadata": {
        "id": "KlGjKm3kZ1On",
        "colab_type": "code",
        "colab": {
          "base_uri": "https://localhost:8080/",
          "height": 1000
        },
        "outputId": "6a76876e-cf82-49da-eeb8-453b6ec70872"
      },
      "source": [
        "bagged_tree.predict_proba(test)"
      ],
      "execution_count": null,
      "outputs": [
        {
          "output_type": "execute_result",
          "data": {
            "text/plain": [
              "array([[0.        , 1.        ],\n",
              "       [0.29883236, 0.70116764],\n",
              "       [0.90774397, 0.09225603],\n",
              "       [0.        , 1.        ],\n",
              "       [0.35289884, 0.64710116],\n",
              "       [0.75730545, 0.24269455],\n",
              "       [0.9075969 , 0.0924031 ],\n",
              "       [0.90314528, 0.09685472],\n",
              "       [0.17226913, 0.82773087],\n",
              "       [0.        , 1.        ],\n",
              "       [0.        , 1.        ],\n",
              "       [0.9382218 , 0.0617782 ],\n",
              "       [0.5689654 , 0.4310346 ],\n",
              "       [0.6439013 , 0.3560987 ],\n",
              "       [0.00333333, 0.99666667],\n",
              "       [0.92344019, 0.07655981],\n",
              "       [0.47979027, 0.52020973],\n",
              "       [0.70048498, 0.29951502],\n",
              "       [0.2226993 , 0.7773007 ],\n",
              "       [0.        , 1.        ],\n",
              "       [0.66498936, 0.33501064],\n",
              "       [0.64617764, 0.35382236],\n",
              "       [0.4038997 , 0.5961003 ],\n",
              "       [0.93432886, 0.06567114],\n",
              "       [0.82957427, 0.17042573],\n",
              "       [0.        , 1.        ],\n",
              "       [0.20002539, 0.79997461],\n",
              "       [0.        , 1.        ],\n",
              "       [0.        , 1.        ],\n",
              "       [0.94801144, 0.05198856],\n",
              "       [0.63707203, 0.36292797],\n",
              "       [0.        , 1.        ],\n",
              "       [0.        , 1.        ],\n",
              "       [0.        , 1.        ],\n",
              "       [0.83307902, 0.16692098],\n",
              "       [0.8958371 , 0.1041629 ],\n",
              "       [0.        , 1.        ],\n",
              "       [0.71275933, 0.28724067],\n",
              "       [0.90427777, 0.09572223],\n",
              "       [0.91701271, 0.08298729],\n",
              "       [0.        , 1.        ],\n",
              "       [0.75118975, 0.24881025],\n",
              "       [0.65119051, 0.34880949],\n",
              "       [0.86316823, 0.13683177],\n",
              "       [0.        , 1.        ],\n",
              "       [0.66233017, 0.33766983],\n",
              "       [0.94042389, 0.05957611],\n",
              "       [0.        , 1.        ],\n",
              "       [0.        , 1.        ],\n",
              "       [0.38041618, 0.61958382],\n",
              "       [0.        , 1.        ],\n",
              "       [0.        , 1.        ],\n",
              "       [0.88343921, 0.11656079],\n",
              "       [0.01877154, 0.98122846],\n",
              "       [0.71265626, 0.28734374],\n",
              "       [0.89259748, 0.10740252],\n",
              "       [0.        , 1.        ],\n",
              "       [0.6336315 , 0.3663685 ],\n",
              "       [0.90181332, 0.09818668],\n",
              "       [0.51090658, 0.48909342],\n",
              "       [0.6886547 , 0.3113453 ],\n",
              "       [0.87372888, 0.12627112],\n",
              "       [0.33623292, 0.66376708],\n",
              "       [0.31534932, 0.68465068],\n",
              "       [0.65719135, 0.34280865],\n",
              "       [0.7881185 , 0.2118815 ],\n",
              "       [0.        , 1.        ],\n",
              "       [0.66430303, 0.33569697],\n",
              "       [0.49609011, 0.50390989],\n",
              "       [0.80001273, 0.19998727],\n",
              "       [0.58518377, 0.41481623],\n",
              "       [0.        , 1.        ],\n",
              "       [0.        , 1.        ],\n",
              "       [0.        , 1.        ],\n",
              "       [0.4514652 , 0.5485348 ],\n",
              "       [0.        , 1.        ],\n",
              "       [0.48198737, 0.51801263],\n",
              "       [0.        , 1.        ],\n",
              "       [0.83883847, 0.16116153],\n",
              "       [0.        , 1.        ],\n",
              "       [0.        , 1.        ],\n",
              "       [0.26555912, 0.73444088],\n",
              "       [0.34981106, 0.65018894],\n",
              "       [0.83210712, 0.16789288],\n",
              "       [0.88912014, 0.11087986],\n",
              "       [0.96609108, 0.03390892],\n",
              "       [0.        , 1.        ],\n",
              "       [0.48171145, 0.51828855],\n",
              "       [0.62868409, 0.37131591],\n",
              "       [0.46640111, 0.53359889],\n",
              "       [0.78810434, 0.21189566],\n",
              "       [0.01088889, 0.98911111],\n",
              "       [0.        , 1.        ],\n",
              "       [0.8238531 , 0.1761469 ],\n",
              "       [0.        , 1.        ],\n",
              "       [0.        , 1.        ],\n",
              "       [0.80142323, 0.19857677],\n",
              "       [0.82913223, 0.17086777],\n",
              "       [0.75496756, 0.24503244],\n",
              "       [0.        , 1.        ],\n",
              "       [0.66916273, 0.33083727],\n",
              "       [0.85416865, 0.14583135],\n",
              "       [0.        , 1.        ],\n",
              "       [0.26190905, 0.73809095],\n",
              "       [0.53220578, 0.46779422],\n",
              "       [0.        , 1.        ],\n",
              "       [0.59898814, 0.40101186],\n",
              "       [0.        , 1.        ],\n",
              "       [0.6678739 , 0.3321261 ],\n",
              "       [0.        , 1.        ],\n",
              "       [0.86587076, 0.13412924],\n",
              "       [0.28719264, 0.71280736],\n",
              "       [0.18423917, 0.81576083],\n",
              "       [0.9067039 , 0.0932961 ],\n",
              "       [0.69455874, 0.30544126],\n",
              "       [0.2508464 , 0.7491536 ],\n",
              "       [0.        , 1.        ],\n",
              "       [0.19405454, 0.80594546],\n",
              "       [0.00878788, 0.99121212],\n",
              "       [0.        , 1.        ],\n",
              "       [0.55424088, 0.44575912],\n",
              "       [0.        , 1.        ],\n",
              "       [0.97013404, 0.02986596],\n",
              "       [0.95171933, 0.04828067],\n",
              "       [0.85949013, 0.14050987],\n",
              "       [0.        , 1.        ],\n",
              "       [0.65133369, 0.34866631],\n",
              "       [0.        , 1.        ],\n",
              "       [0.        , 1.        ],\n",
              "       [0.        , 1.        ],\n",
              "       [0.63594091, 0.36405909],\n",
              "       [0.89261529, 0.10738471],\n",
              "       [0.95761532, 0.04238468],\n",
              "       [0.8362046 , 0.1637954 ],\n",
              "       [0.        , 1.        ],\n",
              "       [0.        , 1.        ],\n",
              "       [0.        , 1.        ],\n",
              "       [0.46998073, 0.53001927],\n",
              "       [0.93124947, 0.06875053],\n",
              "       [0.66170195, 0.33829805],\n",
              "       [0.        , 1.        ],\n",
              "       [0.62671543, 0.37328457],\n",
              "       [0.        , 1.        ],\n",
              "       [0.40640825, 0.59359175],\n",
              "       [0.8433399 , 0.1566601 ],\n",
              "       [0.00166667, 0.99833333],\n",
              "       [0.        , 1.        ],\n",
              "       [0.        , 1.        ],\n",
              "       [0.6373084 , 0.3626916 ],\n",
              "       [0.80537266, 0.19462734],\n",
              "       [0.        , 1.        ],\n",
              "       [0.7161801 , 0.2838199 ],\n",
              "       [0.75157999, 0.24842001],\n",
              "       [0.88787587, 0.11212413],\n",
              "       [0.3886885 , 0.6113115 ],\n",
              "       [0.57910201, 0.42089799],\n",
              "       [0.48948939, 0.51051061],\n",
              "       [0.        , 1.        ],\n",
              "       [0.03211009, 0.96788991],\n",
              "       [0.        , 1.        ],\n",
              "       [0.        , 1.        ],\n",
              "       [0.88510609, 0.11489391],\n",
              "       [0.9524374 , 0.0475626 ],\n",
              "       [0.47180833, 0.52819167],\n",
              "       [0.        , 1.        ],\n",
              "       [0.2905724 , 0.7094276 ],\n",
              "       [0.57948158, 0.42051842],\n",
              "       [0.        , 1.        ],\n",
              "       [0.        , 1.        ],\n",
              "       [0.83157502, 0.16842498],\n",
              "       [0.        , 1.        ],\n",
              "       [0.        , 1.        ],\n",
              "       [0.        , 1.        ],\n",
              "       [0.88339088, 0.11660912],\n",
              "       [0.72229882, 0.27770118],\n",
              "       [0.00166667, 0.99833333],\n",
              "       [0.59295926, 0.40704074],\n",
              "       [0.        , 1.        ],\n",
              "       [0.01088889, 0.98911111],\n",
              "       [0.        , 1.        ],\n",
              "       [0.        , 1.        ],\n",
              "       [0.01706522, 0.98293478],\n",
              "       [0.        , 1.        ],\n",
              "       [0.51376271, 0.48623729],\n",
              "       [0.93228733, 0.06771267],\n",
              "       [0.68698997, 0.31301003],\n",
              "       [0.        , 1.        ],\n",
              "       [0.        , 1.        ],\n",
              "       [0.        , 1.        ],\n",
              "       [0.15877157, 0.84122843],\n",
              "       [0.85265257, 0.14734743],\n",
              "       [0.71332482, 0.28667518],\n",
              "       [0.29670132, 0.70329868],\n",
              "       [0.        , 1.        ],\n",
              "       [0.        , 1.        ],\n",
              "       [0.        , 1.        ],\n",
              "       [0.72234783, 0.27765217],\n",
              "       [0.        , 1.        ],\n",
              "       [0.        , 1.        ],\n",
              "       [0.86887747, 0.13112253],\n",
              "       [0.        , 1.        ],\n",
              "       [0.67233845, 0.32766155],\n",
              "       [0.00333333, 0.99666667],\n",
              "       [0.        , 1.        ],\n",
              "       [0.        , 1.        ],\n",
              "       [0.83939885, 0.16060115],\n",
              "       [0.40491532, 0.59508468],\n",
              "       [0.01484127, 0.98515873],\n",
              "       [0.62308268, 0.37691732],\n",
              "       [0.        , 1.        ],\n",
              "       [0.52027432, 0.47972568],\n",
              "       [0.        , 1.        ],\n",
              "       [0.57218954, 0.42781046],\n",
              "       [0.        , 1.        ],\n",
              "       [0.88691189, 0.11308811],\n",
              "       [0.        , 1.        ],\n",
              "       [0.8859694 , 0.1140306 ],\n",
              "       [0.43975858, 0.56024142],\n",
              "       [0.66555912, 0.33444088],\n",
              "       [0.95824677, 0.04175323],\n",
              "       [0.56113672, 0.43886328],\n",
              "       [0.19376551, 0.80623449],\n",
              "       [0.9586672 , 0.0413328 ],\n",
              "       [0.36302681, 0.63697319],\n",
              "       [0.        , 1.        ],\n",
              "       [0.27462772, 0.72537228],\n",
              "       [0.71840504, 0.28159496],\n",
              "       [0.        , 1.        ],\n",
              "       [0.89724244, 0.10275756],\n",
              "       [0.47428323, 0.52571677],\n",
              "       [0.62174723, 0.37825277],\n",
              "       [0.        , 1.        ],\n",
              "       [0.85830863, 0.14169137]])"
            ]
          },
          "metadata": {
            "tags": []
          },
          "execution_count": 76
        }
      ]
    },
    {
      "cell_type": "markdown",
      "metadata": {
        "id": "gnlBk7INZY5j",
        "colab_type": "text"
      },
      "source": [
        "#Thank You\n",
        "___________________________________________________________________\n"
      ]
    }
  ]
}